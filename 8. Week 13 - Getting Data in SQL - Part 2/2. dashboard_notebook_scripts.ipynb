{
    "metadata": {
        "kernelspec": {
            "name": "SQL",
            "display_name": "SQL",
            "language": "sql"
        },
        "language_info": {
            "name": "sql",
            "version": ""
        }
    },
    "nbformat_minor": 2,
    "nbformat": 4,
    "cells": [
        {
            "cell_type": "markdown",
            "source": [
                "## Store Manager Dashboard\n",
                "\n",
                "Queries that would be run to create the different values that we would need to create a dashboard for the store manager.\n",
                "\n",
                "From the data we have, it would be important for the store manager to know about inventory levels, how films are being returned and potentially risky customers.\n",
                "\n",
                "We will write scripts to perform the following operations.\n",
                "\n",
                "- Look at the stock level for each film\n",
                "    \n",
                "- <span style=\"color: #008000;\">Compare inventory level of total rentals for each movie</span>\n",
                "    \n",
                "- Look for repeat overdue offenders\n",
                "    \n",
                "- See if repeat overdue offenders are also don't return books\n",
                "    \n",
                "- How often are non-returners first time customers"
            ],
            "metadata": {
                "azdata_cell_guid": "79f84d77-cd95-4f97-86b4-e1dedaca4417"
            },
            "attachments": {}
        },
        {
            "cell_type": "code",
            "source": [
                "-- Look at the inventory level for each film \r\n",
                "CREATE VIEW total_inventory_per_film AS \r\n",
                "SELECT f.title, COUNT(i.inventory_id) AS total_stock \r\n",
                "FROM film AS f \r\n",
                "LEFT JOIN inventory AS i ON f.film_id = i.film_id -- LEFT JOIN because we also want movies that don't appear in the inventory \r\n",
                "GROUP BY f.title\r\n",
                "ORDER BY f.title;\r\n",
                "\r\n",
                "SELECT *\r\n",
                "FROM total_inventory_per_film;"
            ],
            "metadata": {
                "azdata_cell_guid": "350e4a99-42ea-4631-8bd8-297214a2bd66",
                "language": "sql"
            },
            "outputs": [
                {
                    "output_type": "error",
                    "ename": "",
                    "evalue": "relation \"film\" does not exist",
                    "traceback": []
                },
                {
                    "output_type": "display_data",
                    "data": {
                        "text/html": "Total execution time: 00:00:00.002"
                    },
                    "metadata": {}
                }
            ],
            "execution_count": 2
        },
        {
            "cell_type": "code",
            "source": [
                "-- Compare inventory level of total rentals for each movie \r\n",
                "CREATE VIEW total_inventory_and_total_rental_per_film AS\r\n",
                "SELECT f.title, COUNT(DISTINCT(i.inventory_id, i.film_id)) AS total_inventory, COUNT(DISTINCT(r.inventory_id, r.rental_id)) AS total_rented_out\r\n",
                "FROM film AS f\r\n",
                "LEFT JOIN inventory AS i ON f.film_id = i.film_id\r\n",
                "LEFT JOIN rental AS r ON i.inventory_id = r.inventory_id\r\n",
                "GROUP BY f.title\r\n",
                "ORDER BY total_rented_out DESC;\r\n",
                "\r\n",
                "SELECT *\r\n",
                "FROM total_inventory_and_total_rental_per_film;"
            ],
            "metadata": {
                "azdata_cell_guid": "266d1015-a531-496e-bf8a-0b588919e4e0",
                "language": "sql"
            },
            "outputs": [
                {
                    "output_type": "display_data",
                    "data": {
                        "text/html": "CREATE VIEW"
                    },
                    "metadata": {}
                },
                {
                    "output_type": "display_data",
                    "data": {
                        "text/html": "Total execution time: 00:00:00.005"
                    },
                    "metadata": {}
                }
            ],
            "execution_count": 2
        },
        {
            "cell_type": "code",
            "source": [
                "-- Looking at the spread of books that were returned on time, not returned or overdue\r\n",
                "CREATE VIEW return_window_spread AS\r\n",
                "WITH return_periods (rental_duration, rental_period) \r\n",
                "AS (\r\n",
                "    SELECT rental_duration, date_part('day', return_date - rental_date) AS rental_period\r\n",
                "    FROM film AS f\r\n",
                "    INNER JOIN inventory AS i ON f.film_id = i.film_id\r\n",
                "    INNER JOIN rental AS r ON r.inventory_id = i.inventory_id)\r\n",
                "\r\n",
                "SELECT return_status, COUNT(*) AS total\r\n",
                "FROM (\r\n",
                "    SELECT CASE \r\n",
                "                WHEN rental_period > rental_duration THEN 'OVERDUE'\r\n",
                "                WHEN rental_period < rental_duration THEN 'ON TIME'\r\n",
                "                ELSE 'NOT RETURNED'\r\n",
                "            END\r\n",
                "            AS return_status\r\n",
                "    FROM return_periods\r\n",
                ") AS rs\r\n",
                "GROUP BY return_status;\r\n",
                "\r\n",
                "SELECT * \r\n",
                "FROM return_window_spread;"
            ],
            "metadata": {
                "azdata_cell_guid": "16920511-80ce-415f-a0e2-198d3254e0d8",
                "language": "sql"
            },
            "outputs": [
                {
                    "output_type": "display_data",
                    "data": {
                        "text/html": "CREATE VIEW"
                    },
                    "metadata": {}
                },
                {
                    "output_type": "display_data",
                    "data": {
                        "text/html": "Total execution time: 00:00:00.020"
                    },
                    "metadata": {}
                }
            ],
            "execution_count": 3
        },
        {
            "cell_type": "code",
            "source": [
                "-- Create view for getting rental period information\r\n",
                "CREATE VIEW repeat_overdue_offenders AS\r\n",
                "WITH return_window (customer_id, inventory_id, rental_id, film_id, rental_days_left) AS (\r\n",
                "SELECT r.customer_id, i.inventory_id, r.rental_id, f.film_id, f.rental_duration - date_part('day', r.return_date - r.rental_date) AS rental_days_left\r\n",
                "FROM film AS f\r\n",
                "INNER JOIN inventory AS i ON f.film_id = i.film_id\r\n",
                "INNER JOIN rental AS r ON r.inventory_id = i.inventory_id)\r\n",
                "\r\n",
                "-- Look for repeat overdue offenders\r\n",
                "SELECT CONCAT(c.first_name, ' ', c.last_name) AS full_name, COUNT(*) AS total_overdue_rentals\r\n",
                "FROM return_window AS rw\r\n",
                "INNER JOIN customer c ON c.customer_id = rw.customer_id\r\n",
                "WHERE rental_days_left < 0\r\n",
                "GROUP BY CONCAT(c.first_name, ' ', c.last_name)\r\n",
                "ORDER BY total_overdue_rentals DESC;"
            ],
            "metadata": {
                "azdata_cell_guid": "16071eb2-67bf-45ba-b5ab-db25470aa3fa",
                "language": "sql"
            },
            "outputs": [
                {
                    "output_type": "display_data",
                    "data": {
                        "text/html": "CREATE VIEW"
                    },
                    "metadata": {}
                },
                {
                    "output_type": "display_data",
                    "data": {
                        "text/html": "Total execution time: 00:00:00.005"
                    },
                    "metadata": {}
                }
            ],
            "execution_count": 5
        },
        {
            "cell_type": "code",
            "source": [
                "-- Check if constent over due renters also don't return films \r\n",
                "\r\n",
                "CREATE VIEW customers_with_overdue_and_no_return AS\r\n",
                "WITH \r\n",
                "return_window (customer_id, inventory_id, rental_id, film_id, rental_days_left) \r\n",
                "AS (\r\n",
                "    SELECT r.customer_id, i.inventory_id, r.rental_id, f.film_id, f.rental_duration - date_part('day', r.return_date - r.rental_date) AS rental_days_left\r\n",
                "    FROM film AS f\r\n",
                "    INNER JOIN inventory AS i ON f.film_id = i.film_id\r\n",
                "    INNER JOIN rental AS r ON r.inventory_id = i.inventory_id),\r\n",
                "customer_overdue_count (customer_id, full_name, total_overdue_rentals)\r\n",
                "AS (\r\n",
                "    SELECT c.customer_id, CONCAT(c.first_name, ' ', c.last_name) AS full_name, COUNT(*) AS total_overdue_rentals\r\n",
                "    FROM return_window AS rw\r\n",
                "    INNER JOIN customer c ON c.customer_id = rw.customer_id\r\n",
                "    WHERE rental_days_left < 0\r\n",
                "    GROUP BY CONCAT(c.first_name, ' ', c.last_name), c.customer_id\r\n",
                "    ORDER BY total_overdue_rentals DESC\r\n",
                ") \r\n",
                "\r\n",
                "-- Do people who have more overdue retnals also not bring films back\r\n",
                "SELECT rw.customer_id, full_name, total_overdue_rentals, COUNT(*) AS total_non_returnals\r\n",
                "FROM customer_overdue_count AS co\r\n",
                "INNER JOIN return_window AS rw ON co.customer_id = rw.customer_id\r\n",
                "WHERE rw.rental_days_left IS NULL\r\n",
                "GROUP BY rw.customer_id, full_name, total_overdue_rentals\r\n",
                "ORDER BY total_overdue_rentals DESC;"
            ],
            "metadata": {
                "azdata_cell_guid": "e859f9cb-af20-427a-ae8b-0d837f00e54c",
                "language": "sql",
                "tags": []
            },
            "outputs": [
                {
                    "output_type": "display_data",
                    "data": {
                        "text/html": "CREATE VIEW"
                    },
                    "metadata": {}
                },
                {
                    "output_type": "display_data",
                    "data": {
                        "text/html": "Total execution time: 00:00:00.007"
                    },
                    "metadata": {}
                }
            ],
            "execution_count": 10
        },
        {
            "cell_type": "markdown",
            "source": [
                "## Finance Dashboard\n",
                "\n",
                "These are some queries that can be used when creating a dashboard for the finance team of our rental store.\n",
                "\n",
                "Here is some information that we can obtain from the database\n",
                "\n",
                "- What is the total value of our inventory\n",
                "- What is the total value of the inventory excluding films that have not been returned\n",
                "- How much is required to replace the movies that have not been returned\n",
                "- How much money have we made\n",
                "- Which month is our best month for rentals\n",
                "- How much have we lost from people not paying for rentals"
            ],
            "metadata": {
                "azdata_cell_guid": "cbee0541-f3c3-46d9-937c-735cee7807ce"
            },
            "attachments": {}
        },
        {
            "cell_type": "code",
            "source": [
                "-- What is the total value of our inventory \r\n",
                "SELECT ROUND(CAST(SUM(replacement_cost) AS NUMERIC), 2) AS total_inventory_value \r\n",
                "FROM inventory AS i \r\n",
                "INNER JOIN film AS f ON f.film_id = i.film_id\r\n",
                "\r\n",
                "-- This output also includes films that have not been returned"
            ],
            "metadata": {
                "azdata_cell_guid": "91b58a24-74d3-421c-9ddd-67e918b939c6",
                "language": "sql",
                "tags": []
            },
            "outputs": [
                {
                    "output_type": "display_data",
                    "data": {
                        "text/html": "(1 row(s) affected)"
                    },
                    "metadata": {}
                },
                {
                    "output_type": "display_data",
                    "data": {
                        "text/html": "Total execution time: 00:00:00.004"
                    },
                    "metadata": {}
                },
                {
                    "output_type": "execute_result",
                    "execution_count": 16,
                    "data": {
                        "application/vnd.dataresource+json": {
                            "schema": {
                                "fields": [
                                    {
                                        "name": "total_inventory_value"
                                    }
                                ]
                            },
                            "data": [
                                {
                                    "total_inventory_value": "92621.19"
                                }
                            ]
                        },
                        "text/html": "<table><tr><th>total_inventory_value</th></tr><tr><td>92621.19</td></tr></table>"
                    },
                    "metadata": {}
                }
            ],
            "execution_count": 16
        },
        {
            "cell_type": "code",
            "source": [
                "-- What is the value of the inventory excluding films that have not been returned \r\n",
                "SELECT ROUND(CAST(SUM(f.replacement_cost) AS NUMERIC), 2) As total_cost\r\n",
                "FROM film AS f \r\n",
                "INNER JOIN inventory AS i\r\n",
                "ON i.film_id = f.film_id\r\n",
                "WHERE inventory_id NOT IN (\r\n",
                "    SELECT inventory_id \r\n",
                "    FROM rental\r\n",
                "    WHERE return_date IS NULL\r\n",
                ")"
            ],
            "metadata": {
                "azdata_cell_guid": "ef93f3cf-61db-412b-9968-cc56440db58c",
                "language": "sql"
            },
            "outputs": [
                {
                    "output_type": "display_data",
                    "data": {
                        "text/html": "(1 row(s) affected)"
                    },
                    "metadata": {}
                },
                {
                    "output_type": "display_data",
                    "data": {
                        "text/html": "Total execution time: 00:00:00.007"
                    },
                    "metadata": {}
                },
                {
                    "output_type": "execute_result",
                    "execution_count": 22,
                    "data": {
                        "application/vnd.dataresource+json": {
                            "schema": {
                                "fields": [
                                    {
                                        "name": "total_cost"
                                    }
                                ]
                            },
                            "data": [
                                {
                                    "total_cost": "89069.02"
                                }
                            ]
                        },
                        "text/html": "<table><tr><th>total_cost</th></tr><tr><td>89069.02</td></tr></table>"
                    },
                    "metadata": {}
                }
            ],
            "execution_count": 22
        },
        {
            "cell_type": "code",
            "source": [
                "-- How much is required to replace the movies that have not been returned \r\n",
                "WITH total_inventory_value (excluding_missing, including_missing) AS( -- USING A CTE\r\n",
                "    SELECT excluding_missing, including_missing\r\n",
                "    FROM ( -- USING A SUB-QUERY\r\n",
                "        SELECT ROUND(CAST(SUM(f.replacement_cost) AS NUMERIC), 2) As excluding_missing\r\n",
                "        FROM film AS f \r\n",
                "        INNER JOIN inventory AS i\r\n",
                "        ON i.film_id = f.film_id\r\n",
                "        WHERE inventory_id NOT IN (\r\n",
                "            SELECT inventory_id \r\n",
                "            FROM rental\r\n",
                "            WHERE return_date IS NULL\r\n",
                "        )) AS excluding_missing_films,  -- USING A SUB-QUERY\r\n",
                "        (\r\n",
                "            SELECT ROUND(CAST(SUM(replacement_cost) AS NUMERIC), 2) AS including_missing\r\n",
                "            FROM inventory AS i \r\n",
                "            INNER JOIN film AS f ON f.film_id = i.film_id\r\n",
                "        ) AS including_missing_films -- USING A SUB-QUERY\r\n",
                ") -- END OF CTE\r\n",
                "\r\n",
                "SELECT (including_missing - excluding_missing) AS cost_for_missing_films\r\n",
                "FROM total_inventory_value;\r\n",
                ""
            ],
            "metadata": {
                "azdata_cell_guid": "0742ba4a-9589-4e28-8649-294373cbbe9b",
                "language": "sql"
            },
            "outputs": [
                {
                    "output_type": "display_data",
                    "data": {
                        "text/html": "DROP VIEW"
                    },
                    "metadata": {}
                },
                {
                    "output_type": "display_data",
                    "data": {
                        "text/html": "CREATE VIEW"
                    },
                    "metadata": {}
                },
                {
                    "output_type": "display_data",
                    "data": {
                        "text/html": "(1 row(s) affected)"
                    },
                    "metadata": {}
                },
                {
                    "output_type": "display_data",
                    "data": {
                        "text/html": "Total execution time: 00:00:00.017"
                    },
                    "metadata": {}
                },
                {
                    "output_type": "execute_result",
                    "execution_count": 28,
                    "data": {
                        "application/vnd.dataresource+json": {
                            "schema": {
                                "fields": [
                                    {
                                        "name": "cost_for_missing_films"
                                    }
                                ]
                            },
                            "data": [
                                {
                                    "cost_for_missing_films": "3552.17"
                                }
                            ]
                        },
                        "text/html": "<table><tr><th>cost_for_missing_films</th></tr><tr><td>3552.17</td></tr></table>"
                    },
                    "metadata": {}
                }
            ],
            "execution_count": 28
        },
        {
            "cell_type": "code",
            "source": [
                "-- How much money has been made \r\n",
                "SELECT ROUND(CAST(SUM(amount) AS NUMERIC), 2) AS total_earnings\r\n",
                "FROM payment "
            ],
            "metadata": {
                "azdata_cell_guid": "c4961705-8b99-4299-af61-a4d76c9d0ccd",
                "language": "sql"
            },
            "outputs": [
                {
                    "output_type": "display_data",
                    "data": {
                        "text/html": "(1 row(s) affected)"
                    },
                    "metadata": {}
                },
                {
                    "output_type": "display_data",
                    "data": {
                        "text/html": "Total execution time: 00:00:00.006"
                    },
                    "metadata": {}
                },
                {
                    "output_type": "execute_result",
                    "execution_count": 30,
                    "data": {
                        "application/vnd.dataresource+json": {
                            "schema": {
                                "fields": [
                                    {
                                        "name": "total_earnings"
                                    }
                                ]
                            },
                            "data": [
                                {
                                    "total_earnings": "67416.51"
                                }
                            ]
                        },
                        "text/html": "<table><tr><th>total_earnings</th></tr><tr><td>67416.51</td></tr></table>"
                    },
                    "metadata": {}
                }
            ],
            "execution_count": 30
        },
        {
            "cell_type": "code",
            "source": [
                "-- Which month is the best for rentals and how much is made in each month \r\n",
                "CREATE VIEW best_rental_month AS\r\n",
                "SELECT date_part('month', rental_date) AS month, ROUND(CAST(SUM(p.amount) AS NUMERIC), 2) AS total_earnings, COUNT(*) total_rentals\r\n",
                "FROM rental AS r\r\n",
                "INNER JOIN payment AS p ON r.rental_id = p.rental_id\r\n",
                "GROUP BY date_part('month', rental_date)\r\n",
                "ORDER BY month;"
            ],
            "metadata": {
                "azdata_cell_guid": "6b67a400-edfc-4178-aee2-f3b06c2b55b4",
                "language": "sql",
                "tags": []
            },
            "outputs": [
                {
                    "output_type": "display_data",
                    "data": {
                        "text/html": "CREATE VIEW"
                    },
                    "metadata": {}
                },
                {
                    "output_type": "display_data",
                    "data": {
                        "text/html": "Total execution time: 00:00:00.005"
                    },
                    "metadata": {}
                }
            ],
            "execution_count": 1
        }
    ]
}