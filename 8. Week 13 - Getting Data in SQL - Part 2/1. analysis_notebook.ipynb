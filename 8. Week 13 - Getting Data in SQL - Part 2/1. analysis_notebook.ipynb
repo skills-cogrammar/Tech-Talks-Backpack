{
    "metadata": {
        "kernelspec": {
            "name": "SQL",
            "display_name": "SQL",
            "language": "sql"
        },
        "language_info": {
            "name": "sql",
            "version": ""
        }
    },
    "nbformat_minor": 2,
    "nbformat": 4,
    "cells": [
        {
            "cell_type": "markdown",
            "source": [
                "## Exploration \r\n",
                "\r\n",
                "- Look at the inventory \r\n",
                "    - How many films are in the inventory\r\n",
                "    - How many films are missing from the inventory \r\n",
                "    - Which films are missing from the inventory \r\n",
                "    - Questions \r\n",
                "        - What is the total value of our inventory \r\n",
                "        - Which films have the largest stock \r\n",
                "- Look at rental \r\n",
                "    - How many retanls have we had \r\n",
                "    - How many films have been returned \r\n",
                "    - What is the average duration between renting a film and returning it \r\n",
                "    - How many customers do we have \r\n",
                "    - Questions \r\n",
                "        - What is the distribution between films that are returned on time and not \r\n",
                "        - What is the spread of films that are returned on time, overdue and not returned \r\n",
                "        - Are there any customers who repeatedly return overdue films \r\n",
                "        - Are there customers who repeatedly don't return films \r\n",
                "        - Are there customers who both don't return films and done return on time \r\n",
                "        - How much is required to replace missing films\r\n",
                "- Look at Payment \r\n",
                "    - Total number of payments made \r\n",
                "    - Have all of the films been paid for\r\n",
                "    - How many films have not been paid for\r\n",
                "    - Questions\r\n",
                "        - How much money have we made \r\n",
                "        - Who has made us the most money \r\n",
                "        - Who has not paid for films \r\n",
                "        - Who has not returned films and not paid for the film"
            ],
            "metadata": {
                "azdata_cell_guid": "fbaf8159-688e-4c99-8161-2d725eecf858"
            },
            "attachments": {}
        },
        {
            "cell_type": "markdown",
            "source": [
                "### Inventory\r\n",
                "\r\n",
                "Let's take a look at the inventory table and see what information we can gather from it, we will take a look at the following.\r\n",
                "- How many films are in the inventory \r\n",
                "- How many films are missing from the inventory \r\n",
                "- Which films are missing from the inventory \r\n",
                "\r\n",
                "Once we have looked at the table, we can think of what information would be useful to take a further look at.\r\n",
                "- What is the value of our stock \r\n",
                "- Are the high stock films rented the most\r\n",
                "- Based on the rental numbers, which movies should have a higher stock"
            ],
            "metadata": {
                "azdata_cell_guid": "77f98c90-6541-46c4-9924-7f6e23ba3a8d"
            },
            "attachments": {}
        },
        {
            "cell_type": "code",
            "source": [
                "-- How many films are in the inventory \r\n",
                "SELECT COUNT(*) AS total_inventory\r\n",
                "FROM inventory;"
            ],
            "metadata": {
                "azdata_cell_guid": "0365eb44-2462-4219-bbdd-fd09deb90281",
                "language": "sql",
                "tags": []
            },
            "outputs": [
                {
                    "output_type": "display_data",
                    "data": {
                        "text/html": "(1 row(s) affected)"
                    },
                    "metadata": {}
                },
                {
                    "output_type": "display_data",
                    "data": {
                        "text/html": "Total execution time: 00:00:00.005"
                    },
                    "metadata": {}
                },
                {
                    "output_type": "execute_result",
                    "execution_count": 2,
                    "data": {
                        "application/vnd.dataresource+json": {
                            "schema": {
                                "fields": [
                                    {
                                        "name": "total_inventory"
                                    }
                                ]
                            },
                            "data": [
                                {
                                    "total_inventory": "4581"
                                }
                            ]
                        },
                        "text/html": "<table><tr><th>total_inventory</th></tr><tr><td>4581</td></tr></table>"
                    },
                    "metadata": {}
                }
            ],
            "execution_count": 2
        },
        {
            "cell_type": "code",
            "source": [
                "-- What is the stock of each distinct film \r\n",
                "SELECT film_id, COUNT(*) AS in_stock\r\n",
                "FROM inventory\r\n",
                "GROUP BY film_id\r\n",
                "ORDER BY in_stock DESC\r\n",
                "LIMIT 10;"
            ],
            "metadata": {
                "azdata_cell_guid": "46ded8cd-67a8-43ef-89a6-d4f2c99f8cb3",
                "language": "sql"
            },
            "outputs": [
                {
                    "output_type": "display_data",
                    "data": {
                        "text/html": "(10 row(s) affected)"
                    },
                    "metadata": {}
                },
                {
                    "output_type": "display_data",
                    "data": {
                        "text/html": "Total execution time: 00:00:00.007"
                    },
                    "metadata": {}
                },
                {
                    "output_type": "execute_result",
                    "execution_count": 7,
                    "data": {
                        "application/vnd.dataresource+json": {
                            "schema": {
                                "fields": [
                                    {
                                        "name": "film_id"
                                    },
                                    {
                                        "name": "in_stock"
                                    }
                                ]
                            },
                            "data": [
                                {
                                    "film_id": "745",
                                    "in_stock": "8"
                                },
                                {
                                    "film_id": "378",
                                    "in_stock": "8"
                                },
                                {
                                    "film_id": "91",
                                    "in_stock": "8"
                                },
                                {
                                    "film_id": "220",
                                    "in_stock": "8"
                                },
                                {
                                    "film_id": "382",
                                    "in_stock": "8"
                                },
                                {
                                    "film_id": "350",
                                    "in_stock": "8"
                                },
                                {
                                    "film_id": "266",
                                    "in_stock": "8"
                                },
                                {
                                    "film_id": "764",
                                    "in_stock": "8"
                                },
                                {
                                    "film_id": "638",
                                    "in_stock": "8"
                                },
                                {
                                    "film_id": "127",
                                    "in_stock": "8"
                                }
                            ]
                        },
                        "text/html": "<table><tr><th>film_id</th><th>in_stock</th></tr><tr><td>745</td><td>8</td></tr><tr><td>378</td><td>8</td></tr><tr><td>91</td><td>8</td></tr><tr><td>220</td><td>8</td></tr><tr><td>382</td><td>8</td></tr><tr><td>350</td><td>8</td></tr><tr><td>266</td><td>8</td></tr><tr><td>764</td><td>8</td></tr><tr><td>638</td><td>8</td></tr><tr><td>127</td><td>8</td></tr></table>"
                    },
                    "metadata": {}
                }
            ],
            "execution_count": 7
        },
        {
            "cell_type": "code",
            "source": [
                "-- Which films are not in the inventory\r\n",
                "SELECT f.film_id, i.inventory_id\r\n",
                "FROM film AS f \r\n",
                "LEFT JOIN inventory AS i ON f.film_id = i.film_id\r\n",
                "WHERE i.film_id IS NULL\r\n",
                "ORDER BY f.film_id\r\n",
                "LIMIT 10;\r\n",
                ""
            ],
            "metadata": {
                "azdata_cell_guid": "8238ecdd-9b74-4c61-a052-6b33e08065a2",
                "language": "sql"
            },
            "outputs": [
                {
                    "output_type": "display_data",
                    "data": {
                        "text/html": "(10 row(s) affected)"
                    },
                    "metadata": {}
                },
                {
                    "output_type": "display_data",
                    "data": {
                        "text/html": "Total execution time: 00:00:00.005"
                    },
                    "metadata": {}
                },
                {
                    "output_type": "execute_result",
                    "execution_count": 11,
                    "data": {
                        "application/vnd.dataresource+json": {
                            "schema": {
                                "fields": [
                                    {
                                        "name": "film_id"
                                    },
                                    {
                                        "name": "inventory_id"
                                    }
                                ]
                            },
                            "data": [
                                {
                                    "film_id": "14",
                                    "inventory_id": "NULL"
                                },
                                {
                                    "film_id": "33",
                                    "inventory_id": "NULL"
                                },
                                {
                                    "film_id": "36",
                                    "inventory_id": "NULL"
                                },
                                {
                                    "film_id": "38",
                                    "inventory_id": "NULL"
                                },
                                {
                                    "film_id": "41",
                                    "inventory_id": "NULL"
                                },
                                {
                                    "film_id": "87",
                                    "inventory_id": "NULL"
                                },
                                {
                                    "film_id": "108",
                                    "inventory_id": "NULL"
                                },
                                {
                                    "film_id": "128",
                                    "inventory_id": "NULL"
                                },
                                {
                                    "film_id": "144",
                                    "inventory_id": "NULL"
                                },
                                {
                                    "film_id": "148",
                                    "inventory_id": "NULL"
                                }
                            ]
                        },
                        "text/html": "<table><tr><th>film_id</th><th>inventory_id</th></tr><tr><td>14</td><td>NULL</td></tr><tr><td>33</td><td>NULL</td></tr><tr><td>36</td><td>NULL</td></tr><tr><td>38</td><td>NULL</td></tr><tr><td>41</td><td>NULL</td></tr><tr><td>87</td><td>NULL</td></tr><tr><td>108</td><td>NULL</td></tr><tr><td>128</td><td>NULL</td></tr><tr><td>144</td><td>NULL</td></tr><tr><td>148</td><td>NULL</td></tr></table>"
                    },
                    "metadata": {}
                }
            ],
            "execution_count": 11
        },
        {
            "cell_type": "code",
            "source": [
                "-- How many films in total are not in the inventory \r\n",
                "SELECT COUNT(DISTINCT(f.film_id)) AS count_not_in_inventory\r\n",
                "FROM film AS f \r\n",
                "LEFT JOIN inventory AS i ON f.film_id = i.film_id\r\n",
                "WHERE i.inventory_id IS NULL;"
            ],
            "metadata": {
                "azdata_cell_guid": "e4662357-b90b-40dc-a020-dcb7ba692e04",
                "language": "sql",
                "tags": []
            },
            "outputs": [
                {
                    "output_type": "display_data",
                    "data": {
                        "text/html": "(1 row(s) affected)"
                    },
                    "metadata": {}
                },
                {
                    "output_type": "display_data",
                    "data": {
                        "text/html": "Total execution time: 00:00:00.006"
                    },
                    "metadata": {}
                },
                {
                    "output_type": "execute_result",
                    "execution_count": 15,
                    "data": {
                        "application/vnd.dataresource+json": {
                            "schema": {
                                "fields": [
                                    {
                                        "name": "count_not_in_inventory"
                                    }
                                ]
                            },
                            "data": [
                                {
                                    "count_not_in_inventory": "42"
                                }
                            ]
                        },
                        "text/html": "<table><tr><th>count_not_in_inventory</th></tr><tr><td>42</td></tr></table>"
                    },
                    "metadata": {}
                }
            ],
            "execution_count": 15
        },
        {
            "cell_type": "markdown",
            "source": [
                "### Rental\n",
                "\n",
                "  \n",
                "\n",
                "We can take a look at the rental table and see what information can be gathered from this table. We can start off by looking at the following.\n",
                "\n",
                "- <span style=\"color: var(--vscode-foreground);\">How many rentals have we had</span>\n",
                "- <span style=\"color: var(--vscode-foreground);\">How many films have been returned</span>\n",
                "- <span style=\"color: var(--vscode-foreground);\">What is the average duration between renting a film and returning it</span>\n",
                "- <span style=\"color: var(--vscode-foreground);\">How many customers do we have</span>\n",
                "\n",
                "  \n",
                "\n",
                "Once we know how the data is structured and works, we can as a few questions.\n",
                "\n",
                "- <span style=\"color: var(--vscode-foreground);\">What is the distribution between films that are returned on time and not</span>\n",
                "- <span style=\"color: var(--vscode-foreground);\">What is the spread of films that are returned on time, overdue and not returned</span>\n",
                "- <span style=\"color: var(--vscode-foreground);\">Are there any customers who repeatedly return overdue films</span>\n",
                "- <span style=\"color: var(--vscode-foreground);\">Are there customers who repeatedly don't return films</span>\n",
                "- <span style=\"color: var(--vscode-foreground);\">Are there customers who both don't return films and done return on time</span>\n",
                "- <span style=\"color: var(--vscode-foreground);\">How much is required to replace missing films</span>\n",
                "- <span style=\"color: var(--vscode-foreground);\">Who is our most valuable customer and how much have they given us</span>"
            ],
            "metadata": {
                "azdata_cell_guid": "5a01fcdc-b6e2-42a4-8381-ae0c21f65476"
            },
            "attachments": {}
        },
        {
            "cell_type": "code",
            "source": [
                "-- How many rentas have we had \r\n",
                "SELECT COUNT(*) AS total_number_of_rentals\r\n",
                "FROM rental"
            ],
            "metadata": {
                "azdata_cell_guid": "e39ea805-761d-4f72-82f1-0ff67dd9f399",
                "language": "sql"
            },
            "outputs": [
                {
                    "output_type": "display_data",
                    "data": {
                        "text/html": "(1 row(s) affected)"
                    },
                    "metadata": {}
                },
                {
                    "output_type": "display_data",
                    "data": {
                        "text/html": "Total execution time: 00:00:00.006"
                    },
                    "metadata": {}
                },
                {
                    "output_type": "execute_result",
                    "execution_count": 17,
                    "data": {
                        "application/vnd.dataresource+json": {
                            "schema": {
                                "fields": [
                                    {
                                        "name": "total_number_of_rentals"
                                    }
                                ]
                            },
                            "data": [
                                {
                                    "total_number_of_rentals": "16044"
                                }
                            ]
                        },
                        "text/html": "<table><tr><th>total_number_of_rentals</th></tr><tr><td>16044</td></tr></table>"
                    },
                    "metadata": {}
                }
            ],
            "execution_count": 17
        },
        {
            "cell_type": "code",
            "source": [
                "-- Have all of the films been returned\r\n",
                "SELECT COUNT(*)\r\n",
                "FROM rental\r\n",
                "WHERE return_date IS NULL;"
            ],
            "metadata": {
                "azdata_cell_guid": "695df4fc-5525-49ce-8ec0-c7b11a1eb738",
                "language": "sql"
            },
            "outputs": [
                {
                    "output_type": "display_data",
                    "data": {
                        "text/html": "(1 row(s) affected)"
                    },
                    "metadata": {}
                },
                {
                    "output_type": "display_data",
                    "data": {
                        "text/html": "Total execution time: 00:00:00.006"
                    },
                    "metadata": {}
                },
                {
                    "output_type": "execute_result",
                    "execution_count": 20,
                    "data": {
                        "application/vnd.dataresource+json": {
                            "schema": {
                                "fields": [
                                    {
                                        "name": "count"
                                    }
                                ]
                            },
                            "data": [
                                {
                                    "count": "183"
                                }
                            ]
                        },
                        "text/html": "<table><tr><th>count</th></tr><tr><td>183</td></tr></table>"
                    },
                    "metadata": {}
                }
            ],
            "execution_count": 20
        },
        {
            "cell_type": "code",
            "source": [
                "-- Average duration between renting and returning a film\r\n",
                "SELECT ROUND(CAST(AVG(date_part('day', return_date - rental_date)) AS NUMERIC) , 2) AS average_rental_duration\r\n",
                "FROM rental"
            ],
            "metadata": {
                "azdata_cell_guid": "64f060b9-de42-47d4-aee0-881d12492735",
                "language": "sql"
            },
            "outputs": [
                {
                    "output_type": "display_data",
                    "data": {
                        "text/html": "(1 row(s) affected)"
                    },
                    "metadata": {}
                },
                {
                    "output_type": "display_data",
                    "data": {
                        "text/html": "Total execution time: 00:00:00.008"
                    },
                    "metadata": {}
                },
                {
                    "output_type": "execute_result",
                    "execution_count": 25,
                    "data": {
                        "application/vnd.dataresource+json": {
                            "schema": {
                                "fields": [
                                    {
                                        "name": "average_rental_duration"
                                    }
                                ]
                            },
                            "data": [
                                {
                                    "average_rental_duration": "4.53"
                                }
                            ]
                        },
                        "text/html": "<table><tr><th>average_rental_duration</th></tr><tr><td>4.53</td></tr></table>"
                    },
                    "metadata": {}
                }
            ],
            "execution_count": 25
        },
        {
            "cell_type": "code",
            "source": [
                "-- Average days movies are rented for and average rental duration for a film \r\n",
                "SELECT ROUND(CAST(AVG(date_part('day', return_date - rental_date)) AS NUMERIC) , 2) AS average_days_rented_out, \r\n",
                "       ROUND(\r\n",
                "        CAST(\r\n",
                "            AVG(rental_duration) AS NUMERIC\r\n",
                "        ), 2\r\n",
                "       ) AS average_rental_duration\r\n",
                "FROM film, rental"
            ],
            "metadata": {
                "azdata_cell_guid": "ffd0fcd8-7dfe-4e04-940d-ab419742acf1",
                "language": "sql"
            },
            "outputs": [
                {
                    "output_type": "display_data",
                    "data": {
                        "text/html": "(1 row(s) affected)"
                    },
                    "metadata": {}
                },
                {
                    "output_type": "display_data",
                    "data": {
                        "text/html": "Total execution time: 00:00:03.576"
                    },
                    "metadata": {}
                },
                {
                    "output_type": "execute_result",
                    "execution_count": 28,
                    "data": {
                        "application/vnd.dataresource+json": {
                            "schema": {
                                "fields": [
                                    {
                                        "name": "average_days_rented_out"
                                    },
                                    {
                                        "name": "average_rental_duration"
                                    }
                                ]
                            },
                            "data": [
                                {
                                    "average_days_rented_out": "4.53",
                                    "average_rental_duration": "4.99"
                                }
                            ]
                        },
                        "text/html": "<table><tr><th>average_days_rented_out</th><th>average_rental_duration</th></tr><tr><td>4.53</td><td>4.99</td></tr></table>"
                    },
                    "metadata": {}
                }
            ],
            "execution_count": 28
        },
        {
            "cell_type": "code",
            "source": [
                "-- How many distinct customers have we had VS the total number of customers\r\n",
                "SELECT COUNT(DISTINCT(customer_id)) AS total_customers,\r\n",
                "       COUNT(*) AS total_rentals\r\n",
                "FROM rental"
            ],
            "metadata": {
                "azdata_cell_guid": "433c0eaa-7899-42a6-b7b7-498cd3e879c5",
                "language": "sql"
            },
            "outputs": [
                {
                    "output_type": "display_data",
                    "data": {
                        "text/html": "(1 row(s) affected)"
                    },
                    "metadata": {}
                },
                {
                    "output_type": "display_data",
                    "data": {
                        "text/html": "Total execution time: 00:00:00.009"
                    },
                    "metadata": {}
                },
                {
                    "output_type": "execute_result",
                    "execution_count": 30,
                    "data": {
                        "application/vnd.dataresource+json": {
                            "schema": {
                                "fields": [
                                    {
                                        "name": "total_customers"
                                    },
                                    {
                                        "name": "total_rentals"
                                    }
                                ]
                            },
                            "data": [
                                {
                                    "total_customers": "599",
                                    "total_rentals": "16044"
                                }
                            ]
                        },
                        "text/html": "<table><tr><th>total_customers</th><th>total_rentals</th></tr><tr><td>599</td><td>16044</td></tr></table>"
                    },
                    "metadata": {}
                }
            ],
            "execution_count": 30
        },
        {
            "cell_type": "markdown",
            "source": [
                "### Payment \r\n",
                "\r\n",
                "We can take a look at the payment table and see what informaiton we can gather from this table. We can take a look at the following things:\r\n",
                "- Total number of payments made\r\n",
                "- Have all of the films been paid for\r\n",
                "- How many films have not been paid for\r\n",
                "\r\n",
                "Once we understand how the data is being stored, we can ask a few questions.\r\n",
                "- How much money have we made\r\n",
                "- Who has made us the most money\r\n",
                "- Who has not paid for films\r\n",
                "- Who has not returned films and not paid for the film"
            ],
            "metadata": {
                "azdata_cell_guid": "55017f1b-bb7d-4849-9689-bacb75b98ae3"
            },
            "attachments": {}
        },
        {
            "cell_type": "code",
            "source": [
                "-- Total number of payments made\r\n",
                "SELECT COUNT(*)\r\n",
                "FROM payment;"
            ],
            "metadata": {
                "azdata_cell_guid": "c99aec65-3b57-4503-80b5-0ae6cdf39a02",
                "language": "sql"
            },
            "outputs": [
                {
                    "output_type": "display_data",
                    "data": {
                        "text/html": "(1 row(s) affected)"
                    },
                    "metadata": {}
                },
                {
                    "output_type": "display_data",
                    "data": {
                        "text/html": "Total execution time: 00:00:00.009"
                    },
                    "metadata": {}
                },
                {
                    "output_type": "execute_result",
                    "execution_count": 32,
                    "data": {
                        "application/vnd.dataresource+json": {
                            "schema": {
                                "fields": [
                                    {
                                        "name": "count"
                                    }
                                ]
                            },
                            "data": [
                                {
                                    "count": "16049"
                                }
                            ]
                        },
                        "text/html": "<table><tr><th>count</th></tr><tr><td>16049</td></tr></table>"
                    },
                    "metadata": {}
                }
            ],
            "execution_count": 32
        },
        {
            "cell_type": "code",
            "source": [
                "-- Have all of the films been paid for \r\n",
                "SELECT amount, COUNT(*)\r\n",
                "FROM payment \r\n",
                "GROUP BY amount\r\n",
                "ORDER BY amount\r\n",
                "LIMIT 10;\r\n",
                ""
            ],
            "metadata": {
                "azdata_cell_guid": "c961458f-d09a-4db0-8407-e9921ff18810",
                "language": "sql"
            },
            "outputs": [
                {
                    "output_type": "display_data",
                    "data": {
                        "text/html": "(10 row(s) affected)"
                    },
                    "metadata": {}
                },
                {
                    "output_type": "display_data",
                    "data": {
                        "text/html": "Total execution time: 00:00:00.007"
                    },
                    "metadata": {}
                },
                {
                    "output_type": "execute_result",
                    "execution_count": 34,
                    "data": {
                        "application/vnd.dataresource+json": {
                            "schema": {
                                "fields": [
                                    {
                                        "name": "amount"
                                    },
                                    {
                                        "name": "count"
                                    }
                                ]
                            },
                            "data": [
                                {
                                    "amount": "0",
                                    "count": "24"
                                },
                                {
                                    "amount": "0.99",
                                    "count": "2979"
                                },
                                {
                                    "amount": "1.98",
                                    "count": "1"
                                },
                                {
                                    "amount": "1.99",
                                    "count": "640"
                                },
                                {
                                    "amount": "2.99",
                                    "count": "3542"
                                },
                                {
                                    "amount": "3.98",
                                    "count": "8"
                                },
                                {
                                    "amount": "3.99",
                                    "count": "1109"
                                },
                                {
                                    "amount": "4.99",
                                    "count": "3789"
                                },
                                {
                                    "amount": "5.98",
                                    "count": "7"
                                },
                                {
                                    "amount": "5.99",
                                    "count": "1299"
                                }
                            ]
                        },
                        "text/html": "<table><tr><th>amount</th><th>count</th></tr><tr><td>0</td><td>24</td></tr><tr><td>0.99</td><td>2979</td></tr><tr><td>1.98</td><td>1</td></tr><tr><td>1.99</td><td>640</td></tr><tr><td>2.99</td><td>3542</td></tr><tr><td>3.98</td><td>8</td></tr><tr><td>3.99</td><td>1109</td></tr><tr><td>4.99</td><td>3789</td></tr><tr><td>5.98</td><td>7</td></tr><tr><td>5.99</td><td>1299</td></tr></table>"
                    },
                    "metadata": {}
                }
            ],
            "execution_count": 34
        },
        {
            "cell_type": "code",
            "source": [
                "-- Compare rentals that have been paid for and retnal that have not been paid for\r\n",
                "SELECT payment_status, COUNT(*) AS total\r\n",
                "FROM (\r\n",
                "    SELECT CASE \r\n",
                "            WHEN amount = 0 THEN 'Not Paid'\r\n",
                "            ELSE 'PAID'\r\n",
                "            END\r\n",
                "            AS payment_status,\r\n",
                "            payment_id,\r\n",
                "            rental_id,\r\n",
                "            customer_id\r\n",
                "    FROM payment\r\n",
                ") AS temp_payment\r\n",
                "GROUP BY payment_status"
            ],
            "metadata": {
                "azdata_cell_guid": "e69dcd51-1ba4-4c16-b1e1-03797c93c4d3",
                "language": "sql"
            },
            "outputs": [
                {
                    "output_type": "display_data",
                    "data": {
                        "text/html": "(2 row(s) affected)"
                    },
                    "metadata": {}
                },
                {
                    "output_type": "display_data",
                    "data": {
                        "text/html": "Total execution time: 00:00:00.009"
                    },
                    "metadata": {}
                },
                {
                    "output_type": "execute_result",
                    "execution_count": 38,
                    "data": {
                        "application/vnd.dataresource+json": {
                            "schema": {
                                "fields": [
                                    {
                                        "name": "payment_status"
                                    },
                                    {
                                        "name": "total"
                                    }
                                ]
                            },
                            "data": [
                                {
                                    "payment_status": "PAID",
                                    "total": "16025"
                                },
                                {
                                    "payment_status": "Not Paid",
                                    "total": "24"
                                }
                            ]
                        },
                        "text/html": "<table><tr><th>payment_status</th><th>total</th></tr><tr><td>PAID</td><td>16025</td></tr><tr><td>Not Paid</td><td>24</td></tr></table>"
                    },
                    "metadata": {}
                }
            ],
            "execution_count": 38
        },
        {
            "cell_type": "markdown",
            "source": [
                ""
            ],
            "metadata": {
                "azdata_cell_guid": "be427811-84ff-4afd-808b-c5641d8e8182"
            }
        }
    ]
}