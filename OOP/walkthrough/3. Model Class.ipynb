{
 "cells": [
  {
   "cell_type": "markdown",
   "metadata": {},
   "source": [
    "# Model Class\n",
    "\n",
    "#### What is it \n",
    "- Describes real world entities \n",
    "- Can be directly compared to variabels as it is used to store and pass data \n",
    "- We can create data types and data structures out of model classes \n",
    "\n",
    "#### Implementation\n",
    "- Attributes are the most important part of model classes \n",
    "- Methods are only used to work on the attributes of the class \n",
    "\n",
    "#### Uses \n",
    "- We can use them to easily pass data \n",
    "    - Instead of passing multiple variable to every function that wants to perform similar operations, we can use a single class object to pass this information \n",
    "- We can easily deserialize values from csv files and json files and have a bit of type safety \n",
    "    - We know that the application will either crash or create default values if the file has missing data \n",
    "- Custom Data structures\n",
    "    - We can create our own data structures that better model how we want to work with our data if predefined data structures don't meet our needs "
   ]
  },
  {
   "cell_type": "markdown",
   "metadata": {},
   "source": [
    "### 1. Most Basic Model \n",
    "This is the most basic class model that you can create, it has no methods and acts only as a container for our \n",
    "attributes.\n",
    "\n",
    "This can be useful if you only want your model to act as a data transporter and not perform any operations on the actual values."
   ]
  },
  {
   "cell_type": "code",
   "execution_count": 1,
   "metadata": {},
   "outputs": [],
   "source": [
    "class EntryModel:\n",
    "    id = None\n",
    "    title = None\n",
    "    description = None\n",
    "    date = None\n",
    "    amount = None    "
   ]
  },
  {
   "cell_type": "markdown",
   "metadata": {},
   "source": [
    "When using this type of model, we are not able to add all of the values at once and would need to manually enter each value.\n",
    "\n",
    "The code to work with this type of class would look something like this."
   ]
  },
  {
   "cell_type": "code",
   "execution_count": 5,
   "metadata": {},
   "outputs": [
    {
     "name": "stdout",
     "output_type": "stream",
     "text": [
      "ID: \t\t\tentry1\n",
      "Title: \t\t\tCar Sale\n",
      "Description: \t\tSold my Dodge Challenger\n",
      "Amount: \t\t120000.0\n",
      "Date: \t\t\t2024-01-19 22:04:27.677747\n"
     ]
    }
   ],
   "source": [
    "from datetime import datetime\n",
    "\n",
    "# Initialize the variable \n",
    "entry = EntryModel()\n",
    "\n",
    "# Add the values to each attribute \n",
    "entry.id = 'entry1'\n",
    "entry.title = 'Car Sale'\n",
    "entry.description = 'Sold my Dodge Challenger'\n",
    "entry.amount = 120_000.00\n",
    "entry.date = datetime.now()\n",
    "\n",
    "# Print the values\n",
    "output = f\"ID: \\t\\t\\t{entry.id}\\n\"\n",
    "output += f\"Title: \\t\\t\\t{entry.title}\\n\"\n",
    "output += f\"Description: \\t\\t{entry.description}\\n\"\n",
    "output += f\"Amount: \\t\\t{entry.amount}\\n\"\n",
    "output += f\"Date: \\t\\t\\t{entry.date}\"\n",
    "\n",
    "print(output)"
   ]
  },
  {
   "cell_type": "markdown",
   "metadata": {},
   "source": [
    "### 2. Using a Constructor\n",
    "Having to insert each value line by line can make things a bit complicated and can lead to inconsistencies down the line since we have to trust that each value was entered by the time we need to use it.\n",
    "\n",
    "A better approach is to add the values using the constructor, this way, we can enforce that the values have to be entered before the object can be created, otherwise the application will crash.\n",
    "\n",
    "In the following examples, we will use the `__init__` method to create our constructor and create attributes that way."
   ]
  },
  {
   "cell_type": "code",
   "execution_count": 6,
   "metadata": {},
   "outputs": [],
   "source": [
    "class EntryModel:\n",
    "    \n",
    "    def __init__(self, amount, date, title, description, id):\n",
    "        self.amount = amount\n",
    "        self.date = date\n",
    "        self.title = title\n",
    "        self.description = description\n",
    "        self.id = id"
   ]
  },
  {
   "cell_type": "markdown",
   "metadata": {},
   "source": [
    "Let's firstly take a look at the error that we would get if we tried to create the object without passing any of the parameters."
   ]
  },
  {
   "cell_type": "code",
   "execution_count": 7,
   "metadata": {},
   "outputs": [
    {
     "ename": "TypeError",
     "evalue": "EntryModel.__init__() missing 5 required positional arguments: 'amount', 'date', 'title', 'description', and 'id'",
     "output_type": "error",
     "traceback": [
      "\u001b[1;31m---------------------------------------------------------------------------\u001b[0m",
      "\u001b[1;31mTypeError\u001b[0m                                 Traceback (most recent call last)",
      "Cell \u001b[1;32mIn[7], line 2\u001b[0m\n\u001b[0;32m      1\u001b[0m \u001b[38;5;66;03m# Initialize the object \u001b[39;00m\n\u001b[1;32m----> 2\u001b[0m entry \u001b[38;5;241m=\u001b[39m \u001b[43mEntryModel\u001b[49m\u001b[43m(\u001b[49m\u001b[43m)\u001b[49m\n",
      "\u001b[1;31mTypeError\u001b[0m: EntryModel.__init__() missing 5 required positional arguments: 'amount', 'date', 'title', 'description', and 'id'"
     ]
    }
   ],
   "source": [
    "# Initialize the object \n",
    "entry = EntryModel()"
   ]
  },
  {
   "cell_type": "markdown",
   "metadata": {},
   "source": [
    "Now that we can see that we have to pass arguments in order to create our object, let's implement it correctly."
   ]
  },
  {
   "cell_type": "code",
   "execution_count": 8,
   "metadata": {},
   "outputs": [
    {
     "name": "stdout",
     "output_type": "stream",
     "text": [
      "ID: \t\t\tentry1\n",
      "Title: \t\t\tSold my car\n",
      "Description: \t\tSold my Dodge Challenger\n",
      "Amount: \t\t120000\n",
      "Date: \t\t\t2024-01-19 22:16:14.257095\n"
     ]
    }
   ],
   "source": [
    "# Create object \n",
    "entry = EntryModel(120_000, datetime.now(), 'Sold my car', 'Sold my Dodge Challenger', 'entry1')\n",
    "\n",
    "# Print the values\n",
    "output = f\"ID: \\t\\t\\t{entry.id}\\n\"\n",
    "output += f\"Title: \\t\\t\\t{entry.title}\\n\"\n",
    "output += f\"Description: \\t\\t{entry.description}\\n\"\n",
    "output += f\"Amount: \\t\\t{entry.amount}\\n\"\n",
    "output += f\"Date: \\t\\t\\t{entry.date}\"\n",
    "\n",
    "print(output)\n"
   ]
  },
  {
   "cell_type": "markdown",
   "metadata": {},
   "source": [
    "### 3. Setting Default Arguments \n",
    "In certain cases, we might not need the user to pass all of the arguments in order for us to be able to perform our required operations.\n",
    "There are several reasons why we might not want the user to enter values, we might want to perform other operations before creating the values or the values just aren't that important, so there is no point in forcing the user to enter them.\n",
    "\n",
    "There are a few approaches that we can take to solving this issue. \n",
    "1. Declare teh values as None or empty outside the constructor and let the user manually enter them \n",
    "2. Make use of default values in the method argument allowing the user to leave the value out."
   ]
  },
  {
   "cell_type": "markdown",
   "metadata": {},
   "source": [
    "The code below shows an example of creating a vlaue outside of the constructor.\n",
    "\n",
    "For this example, we have decided that the user does not need to enter a description, so we can leave that out of the constructor."
   ]
  },
  {
   "cell_type": "code",
   "execution_count": null,
   "metadata": {},
   "outputs": [],
   "source": [
    "class EntryModel:    \n",
    "    description = \"\"\n",
    "\n",
    "    def __init__(self, amount, date, title,  id):\n",
    "        self.amount = amount\n",
    "        self.date = date\n",
    "        self.title = title        \n",
    "        self.id = id"
   ]
  },
  {
   "cell_type": "markdown",
   "metadata": {},
   "source": [
    "In the next example, we have decided that we want to allow the user to add the description if they want, but also leave it out. We have also decided to make the id optional for reasons that will be discussed later.\n",
    "\n",
    "To make a paramter optional, when creating the method, we need to show what the default value will be using the `=` sign. For this example, we have set both `description` and `id` to None to show that they have no values.\n",
    "\n",
    "Please also note that we can only set default values to parameters that are at the end of the arguments section in our method, so in this example, the application would crash if we tried to set `amount` equal to anything"
   ]
  },
  {
   "cell_type": "code",
   "execution_count": 9,
   "metadata": {},
   "outputs": [],
   "source": [
    "class EntryModel:        \n",
    "\n",
    "    def __init__(self, amount, date, title, description=None, id=None):\n",
    "        self.amount = amount\n",
    "        self.date = date\n",
    "        self.title = title        \n",
    "        self.description = description\n",
    "        self.id = id"
   ]
  },
  {
   "cell_type": "markdown",
   "metadata": {},
   "source": [
    "Here is an example of how the code would run if we were to leave the two arguments out when creating the model."
   ]
  },
  {
   "cell_type": "code",
   "execution_count": 11,
   "metadata": {},
   "outputs": [
    {
     "name": "stdout",
     "output_type": "stream",
     "text": [
      "ID: \t\t\tNone\n",
      "Title: \t\t\tSold My Car\n",
      "Description: \t\tNone\n",
      "Amount: \t\t120000\n",
      "Date: \t\t\t2024-01-19 22:34:56.265262\n"
     ]
    }
   ],
   "source": [
    "entry = EntryModel(120_000, datetime.now(), 'Sold My Car')\n",
    "\n",
    "# Print the values\n",
    "output = f\"ID: \\t\\t\\t{entry.id}\\n\"\n",
    "output += f\"Title: \\t\\t\\t{entry.title}\\n\"\n",
    "output += f\"Description: \\t\\t{entry.description}\\n\"\n",
    "output += f\"Amount: \\t\\t{entry.amount}\\n\"\n",
    "output += f\"Date: \\t\\t\\t{entry.date}\"\n",
    "\n",
    "print(output)"
   ]
  },
  {
   "cell_type": "markdown",
   "metadata": {},
   "source": [
    "Now let us add one of the parameters, keep in mind that order matters when passing our arguments, so let's add the `description` and leave the `id` out"
   ]
  },
  {
   "cell_type": "code",
   "execution_count": 12,
   "metadata": {},
   "outputs": [
    {
     "name": "stdout",
     "output_type": "stream",
     "text": [
      "ID: \t\t\tNone\n",
      "Title: \t\t\tSold My Car\n",
      "Description: \t\tI sold my Dodge Challenge\n",
      "Amount: \t\t120000\n",
      "Date: \t\t\t2024-01-19 22:36:32.828562\n"
     ]
    }
   ],
   "source": [
    "entry = EntryModel(120_000, datetime.now(), 'Sold My Car', 'I sold my Dodge Challenge')\n",
    "\n",
    "# Print the values\n",
    "output = f\"ID: \\t\\t\\t{entry.id}\\n\"\n",
    "output += f\"Title: \\t\\t\\t{entry.title}\\n\"\n",
    "output += f\"Description: \\t\\t{entry.description}\\n\"\n",
    "output += f\"Amount: \\t\\t{entry.amount}\\n\"\n",
    "output += f\"Date: \\t\\t\\t{entry.date}\"\n",
    "\n",
    "print(output)"
   ]
  },
  {
   "cell_type": "markdown",
   "metadata": {},
   "source": [
    "What if we want to pass the `id` but not the `description`? \n",
    "\n",
    "We would need to specify the field that we are setting when passing our arguments in this case"
   ]
  },
  {
   "cell_type": "code",
   "execution_count": 13,
   "metadata": {},
   "outputs": [
    {
     "name": "stdout",
     "output_type": "stream",
     "text": [
      "ID: \t\t\tentry1\n",
      "Title: \t\t\tSold My Car\n",
      "Description: \t\tNone\n",
      "Amount: \t\t120000\n",
      "Date: \t\t\t2024-01-19 22:57:25.870387\n"
     ]
    }
   ],
   "source": [
    "entry = EntryModel(120_000, datetime.now(), 'Sold My Car', id=\"entry1\")\n",
    "\n",
    "# Print the values\n",
    "output = f\"ID: \\t\\t\\t{entry.id}\\n\"\n",
    "output += f\"Title: \\t\\t\\t{entry.title}\\n\"\n",
    "output += f\"Description: \\t\\t{entry.description}\\n\"\n",
    "output += f\"Amount: \\t\\t{entry.amount}\\n\"\n",
    "output += f\"Date: \\t\\t\\t{entry.date}\"\n",
    "\n",
    "print(output)"
   ]
  },
  {
   "cell_type": "markdown",
   "metadata": {},
   "source": [
    "## 4. Making Use of Methods\n",
    "In a model class, methods are only meant to clean an handle the passing of attributes, nothing more. This means that we can not have methods that connect to database sources for example.\n",
    "A method in a model class should only car about the single object that it is working with even if the application as a whole works with multiple objects of the same class.\n",
    "\n",
    "In the following examples, we will look at how we can make use of methods to:\n",
    "- Set default values \n",
    "- Use dunders to make outputs more appealing\n",
    "- *ADVANCED* Block write access to attributes"
   ]
  },
  {
   "cell_type": "markdown",
   "metadata": {},
   "source": [
    "#### 4.1 Generating Values\n",
    "In the last section, we set the `id` to an optional field and set the value to None if no value was passed.\n",
    "\n",
    "**Why is ID optional**\n",
    "\n",
    "When working with unique values for our models, we don't want to make the user generate these values on their side, it makes it harder to verify that the values are indeed unique and also adds unneedd complexity on the users side.\n",
    "\n",
    "The reason we would like to keep the `id` as an opional field in the constructor is to allow us to accept objects that already have an ID.\n",
    "\n",
    "For this example, we will be creating a method that will generate a unique ID when ever the `id` parameter is equal to None.\n"
   ]
  },
  {
   "cell_type": "code",
   "execution_count": 14,
   "metadata": {},
   "outputs": [],
   "source": [
    "import uuid # Module used for generating unique IDs\n",
    "\n",
    "class EntryModel:        \n",
    "\n",
    "    def __init__(self, amount, date, title, description=None, id=None):\n",
    "        self.amount = amount\n",
    "        self.date = date\n",
    "        self.title = title        \n",
    "        self.description = description\n",
    "        \n",
    "        self.id = id                \n",
    "        if id is None:\n",
    "            self.id = self.__generate_id()\n",
    "\n",
    "        # You can also use the ternary operator for this \n",
    "            # self.id = id if (id is not None) else self.__generate_id()                \n",
    "\n",
    "    def __generate_id(self):\n",
    "        return str(uuid.uuid4())"
   ]
  },
  {
   "cell_type": "markdown",
   "metadata": {},
   "source": [
    "In the folowing example, we will include all of the fields except for the ID field and see what gets generated"
   ]
  },
  {
   "cell_type": "code",
   "execution_count": 16,
   "metadata": {},
   "outputs": [
    {
     "name": "stdout",
     "output_type": "stream",
     "text": [
      "ID: \t\t\t6beacb5b-6d2a-4f91-8960-d311197a977b\n",
      "Title: \t\t\tSold My Car\n",
      "Description: \t\tI sold my Dodge Challenger\n",
      "Amount: \t\t120000\n",
      "Date: \t\t\t2024-01-19 23:00:57.690168\n"
     ]
    }
   ],
   "source": [
    "entry = EntryModel(120_000, datetime.now(), 'Sold My Car', \"I sold my Dodge Challenger\")\n",
    "\n",
    "# Print the values\n",
    "output = f\"ID: \\t\\t\\t{entry.id}\\n\"\n",
    "output += f\"Title: \\t\\t\\t{entry.title}\\n\"\n",
    "output += f\"Description: \\t\\t{entry.description}\\n\"\n",
    "output += f\"Amount: \\t\\t{entry.amount}\\n\"\n",
    "output += f\"Date: \\t\\t\\t{entry.date}\"\n",
    "\n",
    "print(output)"
   ]
  },
  {
   "cell_type": "markdown",
   "metadata": {},
   "source": [
    "Just to show that we can still set our own value, here is an example "
   ]
  },
  {
   "cell_type": "code",
   "execution_count": 17,
   "metadata": {},
   "outputs": [
    {
     "name": "stdout",
     "output_type": "stream",
     "text": [
      "ID: \t\t\tentry1\n",
      "Title: \t\t\tSold My Car\n",
      "Description: \t\tI sold my Dodge Challenger\n",
      "Amount: \t\t120000\n",
      "Date: \t\t\t2024-01-19 23:01:53.772316\n"
     ]
    }
   ],
   "source": [
    "entry = EntryModel(120_000, datetime.now(), 'Sold My Car', \"I sold my Dodge Challenger\", \"entry1\")\n",
    "\n",
    "# Print the values\n",
    "output = f\"ID: \\t\\t\\t{entry.id}\\n\"\n",
    "output += f\"Title: \\t\\t\\t{entry.title}\\n\"\n",
    "output += f\"Description: \\t\\t{entry.description}\\n\"\n",
    "output += f\"Amount: \\t\\t{entry.amount}\\n\"\n",
    "output += f\"Date: \\t\\t\\t{entry.date}\"\n",
    "\n",
    "print(output)"
   ]
  },
  {
   "cell_type": "markdown",
   "metadata": {},
   "source": [
    "### 4.2 (ADVANCED) Blocking Write Access to Attributes\n",
    "There might be instances that we do not want the user to be able to update the attribute for what ever reason. \n",
    "For this example, changing the `id` could change the entire meaning of our data since the `id` is key to identifying a vertain entry.\n",
    "\n",
    "Let's implement features to block access to updating the attribute.\n",
    "\n",
    "To do this, we will need to set the `id` attribute to private so that no one has access to it outside of the class,\n",
    "we will then need to make use of a method and a special decorator that will make our method mimic an attribute."
   ]
  },
  {
   "cell_type": "code",
   "execution_count": 18,
   "metadata": {},
   "outputs": [],
   "source": [
    "import uuid # Module used for generating unique IDs\n",
    "\n",
    "class EntryModel:        \n",
    "\n",
    "    def __init__(self, amount, date, title, description=None, id=None):\n",
    "        self.amount = amount\n",
    "        self.date = date\n",
    "        self.title = title        \n",
    "        self.description = description\n",
    "        \n",
    "        self.__id = id if (id is not None) else self.__generate_id() # Double underscore at the front to make the attribute private\n",
    "\n",
    "    def __generate_id(self):\n",
    "        return str(uuid.uuid4())\n",
    "    \n",
    "    # The property decorator will allow us to access teh id method without using the parenthesis \n",
    "    # This will make it look like we are calling an attribute directly\n",
    "    # This property is known as a getter\n",
    "    @property\n",
    "    def id(self):\n",
    "        return self.__id"
   ]
  },
  {
   "cell_type": "markdown",
   "metadata": {},
   "source": [
    "Let's create a new model and try to update the id and see what happens."
   ]
  },
  {
   "cell_type": "code",
   "execution_count": 19,
   "metadata": {},
   "outputs": [
    {
     "ename": "AttributeError",
     "evalue": "property 'id' of 'EntryModel' object has no setter",
     "output_type": "error",
     "traceback": [
      "\u001b[1;31m---------------------------------------------------------------------------\u001b[0m",
      "\u001b[1;31mAttributeError\u001b[0m                            Traceback (most recent call last)",
      "Cell \u001b[1;32mIn[19], line 4\u001b[0m\n\u001b[0;32m      1\u001b[0m entry \u001b[38;5;241m=\u001b[39m EntryModel(\u001b[38;5;241m120_000\u001b[39m, datetime\u001b[38;5;241m.\u001b[39mnow(), \u001b[38;5;124m'\u001b[39m\u001b[38;5;124mSold My Car\u001b[39m\u001b[38;5;124m'\u001b[39m, \u001b[38;5;124m\"\u001b[39m\u001b[38;5;124mI sold my Dodge Challenger\u001b[39m\u001b[38;5;124m\"\u001b[39m)\n\u001b[0;32m      3\u001b[0m \u001b[38;5;66;03m# UPDATE id \u001b[39;00m\n\u001b[1;32m----> 4\u001b[0m \u001b[43mentry\u001b[49m\u001b[38;5;241;43m.\u001b[39;49m\u001b[43mid\u001b[49m \u001b[38;5;241m=\u001b[39m \u001b[38;5;124m\"\u001b[39m\u001b[38;5;124mentry1\u001b[39m\u001b[38;5;124m\"\u001b[39m\n\u001b[0;32m      6\u001b[0m \u001b[38;5;66;03m# Print the values\u001b[39;00m\n\u001b[0;32m      7\u001b[0m output \u001b[38;5;241m=\u001b[39m \u001b[38;5;124mf\u001b[39m\u001b[38;5;124m\"\u001b[39m\u001b[38;5;124mID: \u001b[39m\u001b[38;5;130;01m\\t\u001b[39;00m\u001b[38;5;130;01m\\t\u001b[39;00m\u001b[38;5;130;01m\\t\u001b[39;00m\u001b[38;5;132;01m{\u001b[39;00mentry\u001b[38;5;241m.\u001b[39mid\u001b[38;5;132;01m}\u001b[39;00m\u001b[38;5;130;01m\\n\u001b[39;00m\u001b[38;5;124m\"\u001b[39m\n",
      "\u001b[1;31mAttributeError\u001b[0m: property 'id' of 'EntryModel' object has no setter"
     ]
    }
   ],
   "source": [
    "entry = EntryModel(120_000, datetime.now(), 'Sold My Car', \"I sold my Dodge Challenger\")\n",
    "\n",
    "# UPDATE id \n",
    "entry.id = \"entry1\"\n",
    "\n",
    "# Print the values\n",
    "output = f\"ID: \\t\\t\\t{entry.id}\\n\"\n",
    "output += f\"Title: \\t\\t\\t{entry.title}\\n\"\n",
    "output += f\"Description: \\t\\t{entry.description}\\n\"\n",
    "output += f\"Amount: \\t\\t{entry.amount}\\n\"\n",
    "output += f\"Date: \\t\\t\\t{entry.date}\"\n",
    "\n",
    "print(output)"
   ]
  },
  {
   "cell_type": "markdown",
   "metadata": {},
   "source": [
    "The code crashe, this is what we want. So let's now see if we can get the value. We will just use the normal print to see if we are able to call the method as an attribute"
   ]
  },
  {
   "cell_type": "code",
   "execution_count": 20,
   "metadata": {},
   "outputs": [
    {
     "name": "stdout",
     "output_type": "stream",
     "text": [
      "ID: \t\t\t406c18a1-ac20-4cb4-9dea-509d24821d4e\n",
      "Title: \t\t\tSold My Car\n",
      "Description: \t\tI sold my Dodge Challenger\n",
      "Amount: \t\t120000\n",
      "Date: \t\t\t2024-01-19 23:10:54.825469\n"
     ]
    }
   ],
   "source": [
    "entry = EntryModel(120_000, datetime.now(), 'Sold My Car', \"I sold my Dodge Challenger\")\n",
    "\n",
    "# Print the values\n",
    "output = f\"ID: \\t\\t\\t{entry.id}\\n\"\n",
    "output += f\"Title: \\t\\t\\t{entry.title}\\n\"\n",
    "output += f\"Description: \\t\\t{entry.description}\\n\"\n",
    "output += f\"Amount: \\t\\t{entry.amount}\\n\"\n",
    "output += f\"Date: \\t\\t\\t{entry.date}\"\n",
    "\n",
    "print(output)"
   ]
  },
  {
   "cell_type": "markdown",
   "metadata": {},
   "source": [
    "And we are indeed able to call the attribute."
   ]
  },
  {
   "cell_type": "markdown",
   "metadata": {},
   "source": [
    "### 4.3 Using Dunder Methods \n",
    "We can make use of the different dunder methods in our class to allow us to perform different predefined Python operations.\n",
    "\n",
    "In the first example, we will be using the `__str__` dunder, this will allow us to get a custom string when passing our object in the `str()` and `print()` functions, or any other functions that implicitly change the data type of an object to a string.\n",
    "\n",
    "But first, let's see the output that we would get without using the `__str__` method"
   ]
  },
  {
   "cell_type": "code",
   "execution_count": 21,
   "metadata": {},
   "outputs": [
    {
     "name": "stdout",
     "output_type": "stream",
     "text": [
      "<__main__.EntryModel object at 0x0000018C157367D0>\n"
     ]
    }
   ],
   "source": [
    "entry = EntryModel(120_000, datetime.now(), 'Sold My Car', \"I sold my Dodge Challenger\")\n",
    "\n",
    "print(entry)"
   ]
  },
  {
   "cell_type": "markdown",
   "metadata": {},
   "source": [
    "As you can see, we are getting the memory address of our object. So lets create the `__str__` method and fix this."
   ]
  },
  {
   "cell_type": "code",
   "execution_count": 22,
   "metadata": {},
   "outputs": [],
   "source": [
    "import uuid # Module used for generating unique IDs\n",
    "\n",
    "class EntryModel:        \n",
    "\n",
    "    def __init__(self, amount, date, title, description=None, id=None):\n",
    "        self.amount = amount\n",
    "        self.date = date\n",
    "        self.title = title        \n",
    "        self.description = description\n",
    "        \n",
    "        self.__id = id if (id is not None) else self.__generate_id() # Double underscore at the front to make the attribute private\n",
    "\n",
    "    def __generate_id(self):\n",
    "        return str(uuid.uuid4())\n",
    "    \n",
    "    # The property decorator will allow us to access teh id method without using the parenthesis \n",
    "    # This will make it look like we are calling an attribute directly\n",
    "    # This property is known as a getter\n",
    "    @property\n",
    "    def id(self):\n",
    "        return self.__id\n",
    "    \n",
    "    def __str__(self) -> str:\n",
    "        output = f\"ID: \\t\\t\\t{entry.id}\\n\"\n",
    "        output += f\"Title: \\t\\t\\t{entry.title}\\n\"\n",
    "        output += f\"Description: \\t\\t{entry.description}\\n\"\n",
    "        output += f\"Amount: \\t\\t{entry.amount}\\n\"\n",
    "        output += f\"Date: \\t\\t\\t{entry.date}\"\n",
    "\n",
    "        return output"
   ]
  },
  {
   "cell_type": "code",
   "execution_count": 23,
   "metadata": {},
   "outputs": [
    {
     "name": "stdout",
     "output_type": "stream",
     "text": [
      "ID: \t\t\t51843fc0-bdcc-4bb2-a78f-8570ee1f436c\n",
      "Title: \t\t\tSold My Car\n",
      "Description: \t\tI sold my Dodge Challenger\n",
      "Amount: \t\t120000\n",
      "Date: \t\t\t2024-01-19 23:16:56.536723\n"
     ]
    }
   ],
   "source": [
    "entry = EntryModel(120_000, datetime.now(), 'Sold My Car', \"I sold my Dodge Challenger\")\n",
    "\n",
    "print(entry)"
   ]
  },
  {
   "cell_type": "markdown",
   "metadata": {},
   "source": [
    "Encapsulation at it's finest, look at how much easier it is for the user to create and view the information stored in our object."
   ]
  },
  {
   "cell_type": "markdown",
   "metadata": {},
   "source": [
    "Just for fun, let us look at another dunder method, there are many dunder methods in Python, here is a link to an article that goes over most of them [here](https://www.geeksforgeeks.org/dunder-magic-methods-python/)\n",
    "\n",
    "In the code below, we will use the `__add__` method to produce some output when we add two objects together.\n",
    "\n",
    "Since our entity stores monitary values, we can add the values together to get the sum of the values."
   ]
  },
  {
   "cell_type": "code",
   "execution_count": 24,
   "metadata": {},
   "outputs": [],
   "source": [
    "import uuid # Module used for generating unique IDs\n",
    "\n",
    "class EntryModel:        \n",
    "\n",
    "    def __init__(self, amount, date, title, description=None, id=None):\n",
    "        self.amount = amount\n",
    "        self.date = date\n",
    "        self.title = title        \n",
    "        self.description = description\n",
    "        \n",
    "        self.__id = id if (id is not None) else self.__generate_id() # Double underscore at the front to make the attribute private\n",
    "\n",
    "    def __generate_id(self):\n",
    "        return str(uuid.uuid4())\n",
    "    \n",
    "    # The property decorator will allow us to access teh id method without using the parenthesis \n",
    "    # This will make it look like we are calling an attribute directly\n",
    "    # This property is known as a getter\n",
    "    @property\n",
    "    def id(self):\n",
    "        return self.__id\n",
    "    \n",
    "    def __str__(self) -> str:\n",
    "        output = f\"ID: \\t\\t\\t{self.id}\\n\"\n",
    "        output += f\"Title: \\t\\t\\t{self.title}\\n\"\n",
    "        output += f\"Description: \\t\\t{self.description}\\n\"\n",
    "        output += f\"Amount: \\t\\t{self.amount}\\n\"\n",
    "        output += f\"Date: \\t\\t\\t{self.date}\"\n",
    "\n",
    "        return output\n",
    "    \n",
    "    def __add__(self, other):\n",
    "        return self.amount + other.amount"
   ]
  },
  {
   "cell_type": "code",
   "execution_count": 26,
   "metadata": {},
   "outputs": [
    {
     "name": "stdout",
     "output_type": "stream",
     "text": [
      "Total money earned: $ 132000\n"
     ]
    }
   ],
   "source": [
    "entry = EntryModel(120_000, datetime.now(), 'Sold My Car', \"I sold my Dodge Challenger\")\n",
    "entry1 = EntryModel(12_000, datetime.now(), 'Sold My Other Car', \"I sold my Subaru Impreza WRX STI\")\n",
    "\n",
    "total_earnings = entry + entry1\n",
    "\n",
    "print(\"Total money earned: $\", total_earnings)"
   ]
  },
  {
   "cell_type": "markdown",
   "metadata": {},
   "source": [
    "## 5 Working With Multiple Values\n",
    "Since all data types and data structures in Python are objects that are derived from classes, the same rules that apply to data types apply to our classes.\n",
    "\n",
    "If we need to work with multiple models, we can simply use a data structure like a list or dictionary to store the values.\n",
    "\n",
    "In the following example, we will create a few entries and store them all in a list, we will then perform some operatons on these lists."
   ]
  },
  {
   "cell_type": "code",
   "execution_count": 27,
   "metadata": {},
   "outputs": [
    {
     "name": "stdout",
     "output_type": "stream",
     "text": [
      "ID: \t\t\t34449e80-8bdd-42b4-b4cc-ebb5cdf6149f\n",
      "Title: \t\t\tSold My Car\n",
      "Description: \t\tI sold my Dodge Challenger\n",
      "Amount: \t\t120000\n",
      "Date: \t\t\t2024-01-19 23:32:42.719581\n",
      "--------------------------------------------------\n",
      "ID: \t\t\t7587d9a4-947a-4c9b-b9c6-478efd43d2cc\n",
      "Title: \t\t\tSold My Other Car\n",
      "Description: \t\tI sold my Subaru Impreza WRX STI\n",
      "Amount: \t\t12000\n",
      "Date: \t\t\t2024-01-19 23:32:42.719581\n",
      "--------------------------------------------------\n",
      "ID: \t\t\t2d0fe31e-27bb-47b5-9be4-e9c1858e66eb\n",
      "Title: \t\t\tBought A Dirt Bike\n",
      "Description: \t\tBought a KTM Freeride E 350\n",
      "Amount: \t\t-10000\n",
      "Date: \t\t\t2024-01-19 23:32:42.719581\n",
      "--------------------------------------------------\n"
     ]
    }
   ],
   "source": [
    "# Create the entries\n",
    "entry0 = EntryModel(120_000, datetime.now(), 'Sold My Car', \"I sold my Dodge Challenger\")\n",
    "entry1 = EntryModel(12_000, datetime.now(), 'Sold My Other Car', \"I sold my Subaru Impreza WRX STI\")\n",
    "entry2 = EntryModel(-10_000, datetime.now(), 'Bought A Dirt Bike', \"Bought a KTM Freeride E 350\")\n",
    "\n",
    "# Add entries to list\n",
    "entries = [entry0, entry1, entry2]\n",
    "\n",
    "# Print each entry\n",
    "for entry in entries:\n",
    "    print(entry)\n",
    "    print('-'*50)"
   ]
  },
  {
   "cell_type": "code",
   "execution_count": 28,
   "metadata": {},
   "outputs": [
    {
     "name": "stdout",
     "output_type": "stream",
     "text": [
      "Remaining budget: 122000\n"
     ]
    }
   ],
   "source": [
    "# See how much money there is left over\n",
    "\n",
    "total = 0\n",
    "\n",
    "for entry in entries:\n",
    "    total += entry.amount\n",
    "\n",
    "print(\"Remaining budget:\", total)"
   ]
  }
 ],
 "metadata": {
  "kernelspec": {
   "display_name": "Python 3",
   "language": "python",
   "name": "python3"
  },
  "language_info": {
   "codemirror_mode": {
    "name": "ipython",
    "version": 3
   },
   "file_extension": ".py",
   "mimetype": "text/x-python",
   "name": "python",
   "nbconvert_exporter": "python",
   "pygments_lexer": "ipython3",
   "version": "3.11.2"
  }
 },
 "nbformat": 4,
 "nbformat_minor": 2
}
