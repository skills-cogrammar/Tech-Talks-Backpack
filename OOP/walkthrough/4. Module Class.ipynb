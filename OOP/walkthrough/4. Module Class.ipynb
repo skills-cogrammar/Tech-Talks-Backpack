{
 "cells": [
  {
   "cell_type": "markdown",
   "metadata": {},
   "source": [
    "# Module Class \n",
    "\n",
    "### What is it \n",
    "- A class the performs a series of related operations \n",
    "- Most Python Packages that you use are module classes as they perform specific operations \n",
    "- Allow us to carry operations between different parts of our code.\n",
    "\n",
    "### Implementation \n",
    "- Methods are the most important part of module classes \n",
    "- Attributes are used to store data that is commonly used between the different methods \n",
    "- Must be stateless \n",
    "    - Any one method call should not affect the next method call \n",
    "    - Every call should give me the same result (depending on the parameters I pass and initialization of the object)\n",
    "- Should only take in parameters and return results \n",
    "    - No print statements \n",
    "    - No input functions \n",
    "\n",
    "### Uses \n",
    "- Allows us to write code once, and use it in different places \n",
    "    - We can use the same code within a single codebase \n",
    "    - We can take the module and us it in different projects \n",
    "\n",
    "### Benefits \n",
    "- When using abstraction, allows use to change the module we are working with without haveing to change any of the implementation code.\n",
    "- Allows for easier code reuse\n"
   ]
  },
  {
   "cell_type": "markdown",
   "metadata": {},
   "source": [
    "## 1. Basic Module Class \n",
    "\n",
    "At its simplest form, a module class is just a collection of functions, the differentiating point is that within this class, each of the methods needs to relate to a single topic. Module classes allow us to break up the concerns of our code better and they make code reuse a lot easier to do.\n",
    "\n",
    "In the following code, we will create a simple class that will handle reading from and writing to a text file of our choice and we will use this class to access files.\n",
    "\n",
    "*Each cell in this notebook represents a different code file to represent the 1 class per file principle*"
   ]
  },
  {
   "cell_type": "code",
   "execution_count": 1,
   "metadata": {},
   "outputs": [],
   "source": [
    "class FileHandler():\n",
    "\n",
    "    def write(self, file_name: str, data: any):\n",
    "        with open(file_name, \"w\") as file:\n",
    "            file.write(data)\n",
    "\n",
    "    def read(self, file_name: str):\n",
    "        with open(file_name, \"r\") as file:\n",
    "            return file.read()\n"
   ]
  },
  {
   "cell_type": "code",
   "execution_count": 2,
   "metadata": {},
   "outputs": [
    {
     "name": "stdout",
     "output_type": "stream",
     "text": [
      "From 'new_file.txt': This is a new file\n"
     ]
    }
   ],
   "source": [
    "# Initialize the objecy\n",
    "file_handler = FileHandler()\n",
    "\n",
    "# Write to the file\n",
    "file_handler.write(\"new_file.txt\", \"This is a new file\")\n",
    "\n",
    "# Read from the file \n",
    "output = file_handler.read(\"new_file.txt\")\n",
    "print(\"From \\'new_file.txt\\':\", output)"
   ]
  },
  {
   "cell_type": "markdown",
   "metadata": {},
   "source": [
    "## 2. Working with attributes\n",
    "\n",
    "In the example above, we are passing the file name to each method, this can be helpful if we want to use the object to access different files, but there might be instances where we know that we will be working with a single file for the entire file. \n",
    "\n",
    "We can make use of attributes to store the name of the file that we want to work with, this will remove the need to pass the name of the file to each method when we need to use it."
   ]
  },
  {
   "cell_type": "markdown",
   "metadata": {},
   "source": [
    "#### 2.1.1 Using a Public Attribute \n",
    "\n",
    "For this example, we will be making use of a public attribute to store the name of the file.\n",
    "\n",
    "Note that we have added an operations to check if the file exists in the `__init__()` method, if the file does not exist, it will be created.\n"
   ]
  },
  {
   "cell_type": "code",
   "execution_count": 3,
   "metadata": {},
   "outputs": [],
   "source": [
    "import os\n",
    "class FileHandler():\n",
    "\n",
    "    def __init__(self, file_name: str) -> None:\n",
    "        self.file_name = file_name\n",
    "\n",
    "        # Check if the file exists\n",
    "        if not os.path.exists(self.file_name):\n",
    "            self.write(\"\")\n",
    "\n",
    "\n",
    "    def write(self, data: str) -> None:\n",
    "        with open(self.file_name, 'w') as file:\n",
    "            file.write(data)\n",
    "\n",
    "    def read(self) -> str:\n",
    "        with open(self.file_name, 'r') as file:\n",
    "            return file.read()"
   ]
  },
  {
   "cell_type": "code",
   "execution_count": 4,
   "metadata": {},
   "outputs": [
    {
     "name": "stdout",
     "output_type": "stream",
     "text": [
      "Before writing: \n",
      "After writing: Hello World\n"
     ]
    }
   ],
   "source": [
    "# Create object with file name\n",
    "file_handler = FileHandler(\"init_file.txt\")\n",
    "\n",
    "# Read from file\n",
    "output = file_handler.read()\n",
    "print(\"Before writing:\", output)\n",
    "\n",
    "# Write to file \n",
    "file_handler.write(\"Hello World\")\n",
    "\n",
    "# Read from file again\n",
    "output = file_handler.read()\n",
    "print(\"After writing:\", output)\n"
   ]
  },
  {
   "cell_type": "markdown",
   "metadata": {},
   "source": [
    "#### 2.1.2 Changing attribute name\n",
    "The code runs well and does what we need it to do, this should be fine in most cases. But the law of abstraction says that the user should not be able to access features that we do not want them to make use of.\n",
    "\n",
    "For the scope of our class, \n",
    "1. there is no need for the user to have access to the file_exists method since the file will be created when the object is created.\n",
    "2. The user should not be able to modify the file_name as this can get dangerous.\n",
    "\n",
    "In the following example, we will take a look at what might happen if the user changes the file name and trys to use the read method after."
   ]
  },
  {
   "cell_type": "code",
   "execution_count": 5,
   "metadata": {},
   "outputs": [
    {
     "name": "stdout",
     "output_type": "stream",
     "text": [
      "Before writing: Hello World\n"
     ]
    },
    {
     "ename": "FileNotFoundError",
     "evalue": "[Errno 2] No such file or directory: 'changed_file.txt'",
     "output_type": "error",
     "traceback": [
      "\u001b[1;31m---------------------------------------------------------------------------\u001b[0m",
      "\u001b[1;31mFileNotFoundError\u001b[0m                         Traceback (most recent call last)",
      "Cell \u001b[1;32mIn[5], line 12\u001b[0m\n\u001b[0;32m      9\u001b[0m file_handler\u001b[38;5;241m.\u001b[39mfile_name \u001b[38;5;241m=\u001b[39m \u001b[38;5;124m\"\u001b[39m\u001b[38;5;124mchanged_file.txt\u001b[39m\u001b[38;5;124m\"\u001b[39m\n\u001b[0;32m     11\u001b[0m \u001b[38;5;66;03m# Read from file again\u001b[39;00m\n\u001b[1;32m---> 12\u001b[0m output \u001b[38;5;241m=\u001b[39m \u001b[43mfile_handler\u001b[49m\u001b[38;5;241;43m.\u001b[39;49m\u001b[43mread\u001b[49m\u001b[43m(\u001b[49m\u001b[43m)\u001b[49m\n\u001b[0;32m     13\u001b[0m \u001b[38;5;28mprint\u001b[39m(\u001b[38;5;124m\"\u001b[39m\u001b[38;5;124mAfter writing:\u001b[39m\u001b[38;5;124m\"\u001b[39m, output)\n",
      "Cell \u001b[1;32mIn[3], line 17\u001b[0m, in \u001b[0;36mFileHandler.read\u001b[1;34m(self)\u001b[0m\n\u001b[0;32m     16\u001b[0m \u001b[38;5;28;01mdef\u001b[39;00m \u001b[38;5;21mread\u001b[39m(\u001b[38;5;28mself\u001b[39m) \u001b[38;5;241m-\u001b[39m\u001b[38;5;241m>\u001b[39m \u001b[38;5;28mstr\u001b[39m:\n\u001b[1;32m---> 17\u001b[0m     \u001b[38;5;28;01mwith\u001b[39;00m \u001b[38;5;28;43mopen\u001b[39;49m\u001b[43m(\u001b[49m\u001b[38;5;28;43mself\u001b[39;49m\u001b[38;5;241;43m.\u001b[39;49m\u001b[43mfile_name\u001b[49m\u001b[43m,\u001b[49m\u001b[43m \u001b[49m\u001b[38;5;124;43m'\u001b[39;49m\u001b[38;5;124;43mr\u001b[39;49m\u001b[38;5;124;43m'\u001b[39;49m\u001b[43m)\u001b[49m \u001b[38;5;28;01mas\u001b[39;00m file:\n\u001b[0;32m     18\u001b[0m         \u001b[38;5;28;01mreturn\u001b[39;00m file\u001b[38;5;241m.\u001b[39mread()\n",
      "File \u001b[1;32m~\\AppData\\Roaming\\Python\\Python311\\site-packages\\IPython\\core\\interactiveshell.py:284\u001b[0m, in \u001b[0;36m_modified_open\u001b[1;34m(file, *args, **kwargs)\u001b[0m\n\u001b[0;32m    277\u001b[0m \u001b[38;5;28;01mif\u001b[39;00m file \u001b[38;5;129;01min\u001b[39;00m {\u001b[38;5;241m0\u001b[39m, \u001b[38;5;241m1\u001b[39m, \u001b[38;5;241m2\u001b[39m}:\n\u001b[0;32m    278\u001b[0m     \u001b[38;5;28;01mraise\u001b[39;00m \u001b[38;5;167;01mValueError\u001b[39;00m(\n\u001b[0;32m    279\u001b[0m         \u001b[38;5;124mf\u001b[39m\u001b[38;5;124m\"\u001b[39m\u001b[38;5;124mIPython won\u001b[39m\u001b[38;5;124m'\u001b[39m\u001b[38;5;124mt let you open fd=\u001b[39m\u001b[38;5;132;01m{\u001b[39;00mfile\u001b[38;5;132;01m}\u001b[39;00m\u001b[38;5;124m by default \u001b[39m\u001b[38;5;124m\"\u001b[39m\n\u001b[0;32m    280\u001b[0m         \u001b[38;5;124m\"\u001b[39m\u001b[38;5;124mas it is likely to crash IPython. If you know what you are doing, \u001b[39m\u001b[38;5;124m\"\u001b[39m\n\u001b[0;32m    281\u001b[0m         \u001b[38;5;124m\"\u001b[39m\u001b[38;5;124myou can use builtins\u001b[39m\u001b[38;5;124m'\u001b[39m\u001b[38;5;124m open.\u001b[39m\u001b[38;5;124m\"\u001b[39m\n\u001b[0;32m    282\u001b[0m     )\n\u001b[1;32m--> 284\u001b[0m \u001b[38;5;28;01mreturn\u001b[39;00m \u001b[43mio_open\u001b[49m\u001b[43m(\u001b[49m\u001b[43mfile\u001b[49m\u001b[43m,\u001b[49m\u001b[43m \u001b[49m\u001b[38;5;241;43m*\u001b[39;49m\u001b[43margs\u001b[49m\u001b[43m,\u001b[49m\u001b[43m \u001b[49m\u001b[38;5;241;43m*\u001b[39;49m\u001b[38;5;241;43m*\u001b[39;49m\u001b[43mkwargs\u001b[49m\u001b[43m)\u001b[49m\n",
      "\u001b[1;31mFileNotFoundError\u001b[0m: [Errno 2] No such file or directory: 'changed_file.txt'"
     ]
    }
   ],
   "source": [
    "# Create object with file name\n",
    "file_handler = FileHandler(\"init_file.txt\")\n",
    "\n",
    "# Read from file\n",
    "output = file_handler.read()\n",
    "print(\"Before writing:\", output)\n",
    "\n",
    "# Change the file name\n",
    "file_handler.file_name = \"changed_file.txt\"\n",
    "\n",
    "# Read from file again\n",
    "output = file_handler.read()\n",
    "print(\"After writing:\", output)"
   ]
  },
  {
   "cell_type": "markdown",
   "metadata": {},
   "source": [
    "### 2.1.3 Creating Private Methods and Attributes \n",
    "\n",
    "We can make use of private attributes to prevent the user from making any unwanted changes to the attributes and prevent errors like the one above."
   ]
  },
  {
   "cell_type": "code",
   "execution_count": 6,
   "metadata": {},
   "outputs": [],
   "source": [
    "import os\n",
    "class FileHandler():\n",
    "\n",
    "    def __init__(self, file_name: str) -> None:\n",
    "        self.__file_name = file_name\n",
    "\n",
    "        # Check if the file exists\n",
    "        if not os.path.exists(self.__file_name):\n",
    "            self.write(\"\")\n",
    "\n",
    "\n",
    "    def write(self, data: str) -> None:\n",
    "        with open(self.__file_name, 'w') as file:\n",
    "            file.write(data)\n",
    "\n",
    "    def read(self) -> str:\n",
    "        with open(self.__file_name, 'r') as file:\n",
    "            return file.read()\n",
    "    "
   ]
  },
  {
   "cell_type": "code",
   "execution_count": 7,
   "metadata": {},
   "outputs": [
    {
     "name": "stdout",
     "output_type": "stream",
     "text": [
      "Before writing: \n",
      "After writing: \n"
     ]
    }
   ],
   "source": [
    "# Create object with file name\n",
    "file_handler = FileHandler(\"init_file2.txt\")\n",
    "\n",
    "# Read from file\n",
    "output = file_handler.read()\n",
    "print(\"Before writing:\", output)\n",
    "\n",
    "# Change the file name\n",
    "file_handler.file_name = \"changed_file.txt\"\n",
    "\n",
    "# Read from file again\n",
    "output = file_handler.read()\n",
    "print(\"After writing:\", output)"
   ]
  },
  {
   "cell_type": "markdown",
   "metadata": {},
   "source": [
    "### 2.1.4. Readonly attribute\n",
    "\n",
    "Although we don't want the user to be able to change the file name, we might still want them to be able to see the name of the file that they are using. \n",
    "\n",
    "There are two ways this can be done, the most straight forward way would be to create a method that returns the file name, the other would be to use the `@property` decorator.\n",
    "\n",
    "In the class below, we will implement both approaches, but you can choose to use one of the approaches when implementing a read only attribute."
   ]
  },
  {
   "cell_type": "code",
   "execution_count": 8,
   "metadata": {},
   "outputs": [],
   "source": [
    "import os\n",
    "class FileHandler():\n",
    "\n",
    "    def __init__(self, file_name: str) -> None:\n",
    "        self.__file_name = file_name\n",
    "\n",
    "        # Check if the file exists\n",
    "        if not os.path.exists(self.__file_name):\n",
    "            self.write(\"\")\n",
    "\n",
    "\n",
    "    # USING A GET METHOD \n",
    "    def get_file_name(self) -> str:\n",
    "        return self.__file_name\n",
    "    \n",
    "    # USING A PROPERTY \n",
    "    @property\n",
    "    def file_name(self) -> str:\n",
    "        return self.__file_name\n",
    "\n",
    "    def write(self, data: str) -> None:\n",
    "        with open(self.__file_name, 'w') as file:\n",
    "            file.write(data)\n",
    "\n",
    "    def read(self) -> str:\n",
    "        with open(self.__file_name, 'r') as file:\n",
    "            return file.read()\n",
    "    "
   ]
  },
  {
   "cell_type": "code",
   "execution_count": 9,
   "metadata": {},
   "outputs": [
    {
     "name": "stdout",
     "output_type": "stream",
     "text": [
      "Using get: init_file2.txt\n",
      "Using property: init_file2.txt\n"
     ]
    }
   ],
   "source": [
    "# Create object with file name\n",
    "file_handler = FileHandler(\"init_file2.txt\")\n",
    "\n",
    "# Using a get method \n",
    "file_name = file_handler.get_file_name()\n",
    "print(\"Using get:\", file_name)\n",
    "\n",
    "# Using the property, the property allows us to call the method without parenthesis \n",
    "file_name = file_handler.file_name\n",
    "print(\"Using property:\", file_name)"
   ]
  }
 ],
 "metadata": {
  "kernelspec": {
   "display_name": "Python 3",
   "language": "python",
   "name": "python3"
  },
  "language_info": {
   "codemirror_mode": {
    "name": "ipython",
    "version": 3
   },
   "file_extension": ".py",
   "mimetype": "text/x-python",
   "name": "python",
   "nbconvert_exporter": "python",
   "pygments_lexer": "ipython3",
   "version": "3.11.2"
  }
 },
 "nbformat": 4,
 "nbformat_minor": 2
}
