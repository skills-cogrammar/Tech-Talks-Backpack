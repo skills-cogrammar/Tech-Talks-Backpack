{
 "cells": [
  {
   "cell_type": "markdown",
   "metadata": {},
   "source": [
    "# OOP Classes \n",
    "Classes are the most important part of OOP as they allow us to meet all 4 principles of OOP.\n",
    "\n",
    "## Important things to know\n",
    "- Keywords and Terms\n",
    "- Naming convention \n",
    "- Creating attributes \n",
    "    - Outside of the method \n",
    "    - Inside a method \n",
    "- Creating methods \n",
    "- Access Modifiers "
   ]
  },
  {
   "cell_type": "markdown",
   "metadata": {},
   "source": [
    "### Terms \n",
    "\n",
    "###### `class`\n",
    "- A blueprint for an object \n",
    "- defines the methods and attributes required for an object to correctly operate \n",
    "\n",
    "##### `object`\n",
    "- An instance of a class \n",
    "- All variables in Python are objects \n",
    "- Think of a custom class like a variable\n",
    "    - Represents a single item\n",
    "    - Stores data \n",
    "    - Can be passed around    \n",
    "\n",
    "##### `method`\n",
    "- A fancy term for a function that exists within a class\n",
    "- Used to perform operations \n",
    "- takes the `self` keyword as a parameter in order to access attributes and other methods within the class \n",
    "\n",
    "##### `attribute`\n",
    "- A fancy term for a variable that exists within a class \n",
    "- Used to store data about the object \n",
    "- Needs to be created using the `self` keyword if it is being created within a method, else it can be defined normally \n",
    "\n",
    "\n",
    "### Keywords\n",
    "\n",
    "##### `dunder`\n",
    "- Double underscore \n",
    "- Methods that perform operations based on certain actions that are performed on the class \n",
    "    - \"`__init__`\" \n",
    "        - Known as a constructor\n",
    "        - Runs when the object is created \n",
    "        - Used for setting up the class level dependencies and attributes\n",
    "    - \"`__str__`\" \n",
    "        - Returns a string representation of the object when the object is passed into a `str()` or `print()` function\n",
    "- `self`\n",
    "    - Denotes that a class wide method or attribute is being accessed \n",
    "    - a method can not call any attributes or methods without the `self` keywords\n",
    "    - attributes can not be defined in a method without the keyword \n",
    "    - attributes can not be modified within a method withou the keyword\n",
    "- `Access modifiers private vs public`\n",
    "    - `public`\n",
    "        - All methods and attribute are public by default \n",
    "        - Public methods and attributes can be accessed from the object \n",
    "    - `private`\n",
    "        - Need to be set to private using the double underscore at start of the name `__`\n",
    "        - Can only be accessed within the class \n",
    "        - Add abstraction to the code, preventing access to certain methods that the user doesn't need to know about, or attributes they shouldn't be able to change"
   ]
  },
  {
   "cell_type": "markdown",
   "metadata": {},
   "source": [
    "## Creation and Naming \n",
    "- We use the class keyword to let Python know that we are creating a class\n",
    "- The name of the class should be written in PascalCase, where every words starts with an uppercase character\n",
    "- We can leave out the parentheses if we are not inheriting from anything"
   ]
  },
  {
   "cell_type": "code",
   "execution_count": null,
   "metadata": {},
   "outputs": [],
   "source": [
    "# With Parentheses\n",
    "class MyClass():\n",
    "    ...\n",
    "\n",
    "# Without Parentheses\n",
    "class MyClass:\n",
    "    ..."
   ]
  },
  {
   "cell_type": "markdown",
   "metadata": {},
   "source": [
    "### Creating attributes \n",
    "- We can create attributes directly in the class \n",
    "    - We wouldn't need to use the `self` keyword \n",
    "- We can create attributes in a method \n",
    "    - the `__init__()` method is the advised one since it runs on when the object is created, allowing you to know that an attribute 100% exists\n",
    "    - We need to use teh `self` keyword to let Python know that it is a class level variable\n",
    "        - If we don't, the variable will only exist within the method and can't be accessed by other methods.\n"
   ]
  },
  {
   "cell_type": "code",
   "execution_count": 2,
   "metadata": {},
   "outputs": [],
   "source": [
    "# In the class\n",
    "class MyClass():\n",
    "    attribute_one = None\n",
    "    attribute_two = None\n",
    "\n",
    "# In the constructor\n",
    "class MyClass():\n",
    "    \n",
    "    def __init__(self) -> None:\n",
    "        self.attribute_one = None\n",
    "        self.attribute_two = None\n",
    "\n",
    "# Passing values at init\n",
    "class MyClass():\n",
    "\n",
    "    def __init__(self, attribute_one, attribute_two) -> None:\n",
    "        self.attribute_one = attribute_one\n",
    "        self.attribute_two = attribute_two\n",
    "\n",
    "\n",
    "# Passing values at init wih default values\n",
    "class MyClass():\n",
    "\n",
    "    def __init__(self, attribute_one, attribute_two = None) -> None:\n",
    "        self.attribute_one = attribute_one\n",
    "        self.attribute_two = attribute_two"
   ]
  },
  {
   "cell_type": "markdown",
   "metadata": {},
   "source": [
    "### Creating Methods \n",
    "- We can create methods the same way we create a function \n",
    "- We need to pass the `self` keyword as a parameter when creating our methods so that we can access class level features \n",
    "- RULES \n",
    "    - Methods should be able to work with any type of application, not just console applications\n",
    "        - Methods should not have a print\n",
    "        - Methods should not have an input \n",
    "    - Instead\n",
    "        - Input is handled by the operation calling the method and passes the values as paramters \n",
    "        - Output is received by the calling operation, the method will return the output value.\n",
    "- We can make use of the `__str__` dunder to print values when we call the object in a print\n",
    "- We can make use of the `__add__` dunder method to add do custom addition operations between objects\n"
   ]
  },
  {
   "cell_type": "code",
   "execution_count": 4,
   "metadata": {},
   "outputs": [],
   "source": [
    "# Create the class \n",
    "class MyClass():\n",
    "    hour = None\n",
    "    minute = None    \n",
    "    \n",
    "    def get_class_name(self):\n",
    "        return \"MyClass\"\n",
    "    \n",
    "    def set_time(self, hour, minute):\n",
    "        self.hour = hour\n",
    "        self.minute = minute\n",
    "\n",
    "    def __str__(self) -> str:\n",
    "        return f\"{self.hour}:{self.minute}\"\n",
    "    \n",
    "    def __add__(self, other):\n",
    "        return (self.hour + other.hour, self.minute + other.minute)"
   ]
  },
  {
   "cell_type": "code",
   "execution_count": 6,
   "metadata": {},
   "outputs": [
    {
     "name": "stdout",
     "output_type": "stream",
     "text": [
      "First Class: 7:30\n",
      "Second Class: 3:25\n",
      "Joint time: (10, 55)\n"
     ]
    }
   ],
   "source": [
    "# Create the first class\n",
    "my_class_one = MyClass()\n",
    "my_class_one.set_time(7, 30)\n",
    "\n",
    "# Create the second class \n",
    "my_class_two = MyClass()\n",
    "my_class_two.set_time(3, 25)\n",
    "\n",
    "# Print the classes directly (this will trigger the __str__ method)\n",
    "print(\"First Class:\", my_class_one)\n",
    "print(\"Second Class:\", my_class_two)\n",
    "\n",
    "# Add the two objects together \n",
    "joint_time = my_class_one + my_class_two\n",
    "\n",
    "print(\"Joint time:\", joint_time)\n",
    "\n"
   ]
  },
  {
   "cell_type": "markdown",
   "metadata": {},
   "source": [
    "## Public and Private \n",
    "- Private attributes and methods are declared using `__`\n",
    "- We use these to hide features that we don't want the user to have access too \n"
   ]
  },
  {
   "cell_type": "code",
   "execution_count": null,
   "metadata": {},
   "outputs": [],
   "source": [
    "import sqlite3\n",
    "\n",
    "\n",
    "class MyClass():\n",
    "    __connection_string = None # PRIVATE\n",
    "\n",
    "    def __init__(self, connection_string, attribute_one) -> None:\n",
    "        self.__connection_string = connection_string \n",
    "        self.attribute_one = attribute_one\n",
    "\n",
    "    def write(self, data):\n",
    "        conn = self.__create_database_connection()\n",
    "        cursor = conn.cursor()\n",
    "        cursor.execute(\"INSERT INTO data VALUES (?)\", (data,))\n",
    "\n",
    "        conn.close()\n",
    "        \n",
    "    # PRIVATE\n",
    "    def __create_database_connection(self):\n",
    "        return sqlite3.connect(self.__connection_string)"
   ]
  }
 ],
 "metadata": {
  "kernelspec": {
   "display_name": "Python 3",
   "language": "python",
   "name": "python3"
  },
  "language_info": {
   "codemirror_mode": {
    "name": "ipython",
    "version": 3
   },
   "file_extension": ".py",
   "mimetype": "text/x-python",
   "name": "python",
   "nbconvert_exporter": "python",
   "pygments_lexer": "ipython3",
   "version": "3.11.2"
  }
 },
 "nbformat": 4,
 "nbformat_minor": 2
}
