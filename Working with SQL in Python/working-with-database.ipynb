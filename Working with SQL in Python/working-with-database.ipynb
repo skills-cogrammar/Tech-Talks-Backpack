{
 "cells": [
  {
   "cell_type": "markdown",
   "metadata": {},
   "source": [
    "# Background \n",
    "Databases are an important part of both Software Engineering and Data Science as they provide a solid option for storing and managing our data.\n",
    "\n",
    "Unlike text file or CSV file, databases allow us to more security store our data and provide measures to make sure that our data is consistent (when talking about tabular and SQL databases). \n",
    "\n",
    "Think of all of the possible points of failure when storing your data in a file, the file can easily be read, modified and deleted without any special tools. \n",
    "\n",
    "Because of their many issues, text files are not a good or scaleable solution for storing data, this is where databases come into play.\n",
    "\n",
    "### As Software engineers\n",
    "\n",
    "As a software engineer, you want to make sure that the data you are working with is consistent, easy to access for those who should be able to access it and inaccessible for those who should not be able to access it.\n",
    "\n",
    "As a software engineer, you will mainly use database to store information that needs to be accessible whenever the application is run. Databases can be used for storing customer details if you are creating an e-commerce site, posts if you are creating a social media application and much more.\n",
    "\n",
    "As a developer in the modern day, you will mainly be connecting your applications to cloud based databases solutions allowing the same information to be shared between different instances of the same application, but as we will see in this notebook, this is not too different from connecting to a database locally.\n",
    "\n",
    "### Data Science\n",
    "\n",
    "As a data scientist, there are instances where you might need to work with databases, you might be performing queries on large amounts of data and need to query multiple different tables at the same time for your analysis, in this case, using SQL would be the best option (with read access only), but this is out of scope for what we want to do. \n",
    "\n",
    "Another instance would be when you are working on a team where all of the data that needs to be analyzed is stored in a database and there is no API for getting data, or any API that accesses data doesn't fit your ever-changing needs. Connecting directly to the database (with read access only) would be the best choice to allow you to perform the operations that you need.\n",
    "\n",
    "As a data scientist working with SQL databases in particular, you can trust that the data you are working with is mostly clean and error free assuming that the data engineers have set up the right measures to ensure data integrity, reducing the amount of work that you would need to do."
   ]
  },
  {
   "cell_type": "markdown",
   "metadata": {},
   "source": [
    "# Purpose\n",
    "\n",
    "In this notebook, we will be going through the different ways we can interact with SQL within our Python environment. We will mainly focus on using the built in sqlite3 module in Python, but we will also take a look at how we can connect to local or cloud databases within Python, and how we can access databases in Pandas\n",
    "\n",
    "### Notes\n",
    "\n",
    "We will be going over tabular databases that make use of SQL for querying the data stored in the database for this notebook.\n",
    "\n",
    "Creating connections to No-SQL databases would have a similar setup process (with different modules) but would make use of different approaches for querying and working with the data."
   ]
  },
  {
   "cell_type": "markdown",
   "metadata": {},
   "source": [
    "# SQLite\n",
    "\n",
    "In this section, we will go over SQLite and how to use it in Python.\n",
    "\n",
    "SQLite is a good option to get us started with working with databases in our applications as it comes standard with Python so there is no need to install any additional packages.\n",
    "\n",
    "Side note, SQLite also comes installed on Android devices, so most applications that stored data locally on your device are using SQLite.\n",
    "\n",
    "### What is SQLite\n",
    "\n",
    "As the name suggest, SQLite is a lightweight SQL database. Unlike other SQL databases, it does not require a server to run making the install size very small at about 500kbs.\n",
    "\n",
    "Other than the size and lack of complex configuration required to use SQLite, all of it’s benefits other benefits are also weaknesses when compared to other SQL databases.\n",
    "\n",
    "**Benefits (Weaknesses)**\n",
    "\n",
    "- **Self-contained** - SQLite databases run locally on the machine that will directly access the database, the database is usually stored in the project file and used by a single application. This makes it a good solution for storing local data in a more managed way than using files, but means that sharing data between applications is not possible, (unless you get creative).\n",
    "- **Serverless** - Most databases require servers to run, these usually take up a lot of resources and need to be physically running in order to handle requests, but SQLite basically works like a file where you just need to connect to the database whenever you want and it will work. The lack of a server means that SQLite can not be hosted on a cloud platform and used by different applications."
   ]
  },
  {
   "cell_type": "markdown",
   "metadata": {},
   "source": [
    "## 1.1 SQLite in Python\n",
    "\n",
    "Connecting to SQLite in Python is probably easier than connecting to a text file and a lot easier than connecting to a JSON file.\n",
    "\n",
    "SQLite comes pre-installed with Python, so all you need to do is import the package.\n",
    "\n",
    "#### Connecting to SQLite"
   ]
  },
  {
   "cell_type": "code",
   "execution_count": 1,
   "metadata": {},
   "outputs": [],
   "source": [
    "import sqlite3"
   ]
  },
  {
   "cell_type": "markdown",
   "metadata": {},
   "source": [
    "We can then use the function `sqlite3.connect` to connect to the database. All we need to do is pass the database name which will just be a path to a database file, if the file does not exist, it will be generated automatically."
   ]
  },
  {
   "cell_type": "code",
   "execution_count": 4,
   "metadata": {},
   "outputs": [],
   "source": [
    "# Create or open a file called student_db with SQlite\n",
    "db = sqlite3.connect('student_db.db')"
   ]
  },
  {
   "cell_type": "markdown",
   "metadata": {},
   "source": [
    "##### Creating and Deleting Tables\n",
    "\n",
    "To make any changes to the database, we need to use the `cursor` object which allows us to execute SQL statements.\n",
    "\n",
    "We will also be using the `commit` method to save the changes to the database, if the database is closed before the commit is done, changes might not be saved in the database.\n",
    "\n",
    "We use the `execute` method to run our SQL statements, this method takes in a string containing our SQL statement that we would like to run and can also include a argument containing data that we want to pass (as shown later on).\n",
    "\n",
    "For this example, we will be using the triple quotations to write our statement over a few lines."
   ]
  },
  {
   "cell_type": "code",
   "execution_count": 5,
   "metadata": {},
   "outputs": [],
   "source": [
    "cursor = db.cursor()\n",
    "\n",
    "cursor.execute('''\n",
    "    CREATE TABLE student(\n",
    "        id INTEGER PRIMARY KEY AUTOINCREMENT,\n",
    "        name TEXT,\n",
    "        grade INTEGER\n",
    "    );\n",
    "''')\n",
    "\n",
    "db.commit()"
   ]
  },
  {
   "cell_type": "markdown",
   "metadata": {},
   "source": [
    "### Passing data to Statements\n",
    "\n",
    "When performing operations, most of the time, we need our queries to be dynamic and able to accept different values. the `execute` method allows us to pass in paramters that we would like to pass to our query, to do this, we need to use a `?` as a place holder in our statement and pass a tuple containing the values that we want to pass.\n",
    "\n",
    "It's important to also note that if you are passing a single value, your tuple would need to look like this `(value,)` with the trailing comma. Python is not a statically typed language, so passing (value) would just return a string/integer or whatever data type your value is.\n",
    "\n",
    "We will take a look at how to pass parameters in the insertion section and also talk about why it's dangerous to use normal Python string interpolation or concatination later on."
   ]
  },
  {
   "cell_type": "markdown",
   "metadata": {},
   "source": [
    "#### Insert data\n",
    "\n",
    "Since we are working in Python, when performing inserts, we do not know what data is being inserted to our database so we can not hardcode all of the values, we will need to make use of variables.\n",
    "\n",
    "In the first example, we will insert a single value \n",
    "\n",
    "For the second example, we will insert multiple values using the `executemany` method\n",
    "\n",
    "*note - We set the id field to AUTOINCREMENT which means that the id will automatically fill itself when we insert data, we just need to specify which fields we are passing in our insert to avoid any errors due to values being inserted in the wrong position.*"
   ]
  },
  {
   "cell_type": "code",
   "execution_count": 5,
   "metadata": {},
   "outputs": [],
   "source": [
    "# Inserting a single value.\n",
    "\n",
    "name = \"Andres\"\n",
    "grade = 60\n",
    "\n",
    "# Insert \n",
    "cursor.execute(\"INSERT INTO student(name, grade) VALUES (?, ?)\", (name, grade))\n",
    "\n",
    "# Commit the change\n",
    "db.commit()"
   ]
  },
  {
   "cell_type": "code",
   "execution_count": 6,
   "metadata": {},
   "outputs": [],
   "source": [
    "# Insert multiple values using the \n",
    "students = [\n",
    "    (\"Jack\", 50),\n",
    "    (\"Tommy\", 60),\n",
    "    (\"Jerry\", 70),\n",
    "    (\"Bob\", 80)\n",
    "]\n",
    "\n",
    "# Insert values \n",
    "cursor.executemany(\"INSERT INTO student(name, grade) VALUES (?, ?)\", students)\n",
    "\n",
    "db.commit()"
   ]
  },
  {
   "cell_type": "markdown",
   "metadata": {},
   "source": [
    "##### Retrieving Data \n",
    "\n",
    "To get data in SQL, we make use of the `SELECT` statement, we can run this within our `execute` method, all of the same rules as before apply.\n",
    "\n",
    "We can make use of the `fetchone` method after running our query to get a single tuple from the result of our `SELECT` statement or use the `fetchall` method to get all of the results that match our query."
   ]
  },
  {
   "cell_type": "code",
   "execution_count": 7,
   "metadata": {},
   "outputs": [
    {
     "name": "stdout",
     "output_type": "stream",
     "text": [
      "(3, 'Jack', 50)\n"
     ]
    }
   ],
   "source": [
    "# Value to find\n",
    "id = 3\n",
    "\n",
    "cursor.execute(\"SELECT * FROM student WHERE id = ?\", (id,))\n",
    "student = cursor.fetchone()\n",
    "\n",
    "print(student)\n"
   ]
  },
  {
   "cell_type": "code",
   "execution_count": 10,
   "metadata": {},
   "outputs": [
    {
     "name": "stdout",
     "output_type": "stream",
     "text": [
      "[('Andres', 60), ('Andres', 60), ('Jack', 50), ('Tommy', 60), ('Jerry', 70), ('Bob', 80)]\n"
     ]
    }
   ],
   "source": [
    "cursor.execute(\"SELECT name, grade FROM student\")\n",
    "students = cursor.fetchall()\n",
    "\n",
    "print(students)"
   ]
  },
  {
   "cell_type": "markdown",
   "metadata": {},
   "source": [
    "##### Update and Delete Data\n",
    "\n",
    "We can use all of the skills learned above for deleting an inserting, we just need to change the statement we are running."
   ]
  },
  {
   "cell_type": "code",
   "execution_count": 12,
   "metadata": {},
   "outputs": [],
   "source": [
    "grade = 99\n",
    "id = 1\n",
    "\n",
    "cursor.execute('''\n",
    "               UPDATE student \n",
    "               SET grade = ?\n",
    "               WHERE id = ?\n",
    "               ''', (grade, id))\n",
    "\n",
    "db.commit()"
   ]
  },
  {
   "cell_type": "code",
   "execution_count": 16,
   "metadata": {},
   "outputs": [],
   "source": [
    "id = 2\n",
    "\n",
    "cursor.execute(\"DELETE FROM student WHERE id = ?\", (id,))\n",
    "db.commit()\n",
    "\n",
    "db.close()"
   ]
  },
  {
   "cell_type": "markdown",
   "metadata": {},
   "source": [
    "### Closing the connection \n",
    "\n",
    "When working with database connections, it's important to make sure that you close the connection otherwise you will run into issues especially in larger code bases.\n",
    "\n",
    "Depending on the refequency of your database access, you can either create a new database connect before performing an operation and closing the database directly after, or leave the connection running the for the entire life of the application keeping in mind that any other attempts to connect to the database will cause an error.\n",
    "\n",
    "In the code below, we look at two approaches that we can use for managing access to our database, firstly using the `close` method and the second option will use the `with` statement which will handle opening and closing the connection for us."
   ]
  },
  {
   "cell_type": "code",
   "execution_count": 20,
   "metadata": {},
   "outputs": [
    {
     "name": "stdout",
     "output_type": "stream",
     "text": [
      "[('table', 'User', 'User', 2, 'CREATE TABLE User(\\n            id INTEGER PRIMARY KEY AUTOINCREMENT,\\n            name TEXT,\\n            age INTEGER\\n        )'), ('table', 'sqlite_sequence', 'sqlite_sequence', 3, 'CREATE TABLE sqlite_sequence(name,seq)')]\n"
     ]
    }
   ],
   "source": [
    "db = sqlite3.connect('database.db')\n",
    "cursor = db.cursor()\n",
    "\n",
    "result = cursor.execute(\"SELECT * FROM sqlite_master\")\n",
    "print(result.fetchall())\n",
    "\n",
    "db.close()"
   ]
  },
  {
   "cell_type": "code",
   "execution_count": 22,
   "metadata": {},
   "outputs": [
    {
     "ename": "ProgrammingError",
     "evalue": "Cannot operate on a closed database.",
     "output_type": "error",
     "traceback": [
      "\u001b[1;31m---------------------------------------------------------------------------\u001b[0m",
      "\u001b[1;31mProgrammingError\u001b[0m                          Traceback (most recent call last)",
      "Cell \u001b[1;32mIn[22], line 2\u001b[0m\n\u001b[0;32m      1\u001b[0m \u001b[38;5;66;03m# Trying to access the cursor from the above block\u001b[39;00m\n\u001b[1;32m----> 2\u001b[0m \u001b[43mcursor\u001b[49m\u001b[38;5;241;43m.\u001b[39;49m\u001b[43mfetchall\u001b[49m\u001b[43m(\u001b[49m\u001b[43m)\u001b[49m\n",
      "\u001b[1;31mProgrammingError\u001b[0m: Cannot operate on a closed database."
     ]
    }
   ],
   "source": [
    "# Trying to access the cursor from the above block\n",
    "cursor.fetchall()"
   ]
  },
  {
   "cell_type": "markdown",
   "metadata": {},
   "source": [
    "Lets now make use of the `with` statement to handle the state of the connection for us.\n",
    "\n",
    "This is approach is good when you want to access the databse as you need it, particularly when working with functions."
   ]
  },
  {
   "cell_type": "code",
   "execution_count": 31,
   "metadata": {},
   "outputs": [
    {
     "name": "stdout",
     "output_type": "stream",
     "text": [
      "[('table', 'User', 'User', 2, 'CREATE TABLE User(\\n            id INTEGER PRIMARY KEY AUTOINCREMENT,\\n            name TEXT,\\n            age INTEGER\\n        )'), ('table', 'sqlite_sequence', 'sqlite_sequence', 3, 'CREATE TABLE sqlite_sequence(name,seq)')]\n"
     ]
    }
   ],
   "source": [
    "# First connection\n",
    "with sqlite3.connect('database.db') as db:   \n",
    "\n",
    "    result = db.cursor().execute(\"SELECT * FROM sqlite_master\")\n",
    "    print(result.fetchall())"
   ]
  },
  {
   "cell_type": "markdown",
   "metadata": {},
   "source": [
    "#### Exception Handling and Security\n",
    "\n",
    "Like connecting to an external file, there are a few issues that might arise from us not having full control of the database as well as other internal database errors that might occur.\n",
    "\n",
    "Some issues that you might want to look out for when working with databases are \n",
    "- Connection not found\n",
    "    - If you are connecting to a cloud database, the instance might be down, there might be issues with your credentials or any other reason that prevents you from accessing the database \n",
    "- SQL Errors\n",
    "    - Could be a SQL Syntax error (which you should handle on your own)\n",
    "    - Incorrect data might be passed, eg, using a value as a primary key that already exists \n",
    "    - Trying to create a table that already exists (you probably won't be creating tables from your actual code in the real world though)\n",
    "\n",
    "To handle errors, we can use the tried and tested, try-except-finally to make sure that any errors are not presented to the user.\n",
    "\n",
    "*We are using the IF NOT EXISTS as a way to handle any errors that might be thrown when trying to create a table that already exists*"
   ]
  },
  {
   "cell_type": "code",
   "execution_count": null,
   "metadata": {},
   "outputs": [],
   "source": [
    "try:\n",
    "    db = sqlite3.connect('database.db')\n",
    "    cursor = db.cursor()\n",
    "    cursor.execute('''CREATE TABLE IF NOT EXISTS users (\n",
    "        id INTEGER PRIMARY KEY,\n",
    "        name TEXT,\n",
    "        grade INTEGER\n",
    "    )''')\n",
    "    db.commit()\n",
    "except Exception as e:\n",
    "    print(e)\n",
    "    db.rollback()\n",
    "finally:\n",
    "    db.close()"
   ]
  },
  {
   "cell_type": "markdown",
   "metadata": {},
   "source": [
    "Beyond execption handling, it's also important to protect your applications against bad inputs. As stated earlier, it's not advisable to make use of normal string concatination and interpolation to pass values that are going to be run as queries, this makes your code vulnerable to SQL injection attacks as I will show you below.\n",
    "\n",
    "We have 2 functions, one that makes use of string interpolation and another that passes the values we are working with as paramters in the `execute` method.\n",
    "\n",
    "To make this a bit more realistic, I have created a few tables, one table contains tasks for a user, the other table contains user information and passwords. our functions need to return all of the tasks for a given user."
   ]
  },
  {
   "cell_type": "code",
   "execution_count": 2,
   "metadata": {},
   "outputs": [
    {
     "ename": "AttributeError",
     "evalue": "module 'os' has no attribute 'exists'",
     "output_type": "error",
     "traceback": [
      "\u001b[1;31m---------------------------------------------------------------------------\u001b[0m",
      "\u001b[1;31mAttributeError\u001b[0m                            Traceback (most recent call last)",
      "Cell \u001b[1;32mIn[2], line 5\u001b[0m\n\u001b[0;32m      2\u001b[0m \u001b[38;5;28;01mimport\u001b[39;00m \u001b[38;5;21;01msqlite3\u001b[39;00m\n\u001b[0;32m      3\u001b[0m \u001b[38;5;28;01mimport\u001b[39;00m \u001b[38;5;21;01mos\u001b[39;00m \n\u001b[1;32m----> 5\u001b[0m \u001b[38;5;28;01mif\u001b[39;00m \u001b[38;5;129;01mnot\u001b[39;00m \u001b[43mos\u001b[49m\u001b[38;5;241;43m.\u001b[39;49m\u001b[43mexists\u001b[49m\u001b[38;5;241m.\u001b[39mpath(\u001b[38;5;124m'\u001b[39m\u001b[38;5;124mtask.db\u001b[39m\u001b[38;5;124m'\u001b[39m):\n\u001b[0;32m      6\u001b[0m     \u001b[38;5;66;03m# Load the database \u001b[39;00m\n\u001b[0;32m      7\u001b[0m     conn \u001b[38;5;241m=\u001b[39m sqlite3\u001b[38;5;241m.\u001b[39mconnect(\u001b[38;5;124m'\u001b[39m\u001b[38;5;124mtask.db\u001b[39m\u001b[38;5;124m'\u001b[39m)\n\u001b[0;32m      8\u001b[0m     cursor \u001b[38;5;241m=\u001b[39m conn\u001b[38;5;241m.\u001b[39mcursor()\n",
      "\u001b[1;31mAttributeError\u001b[0m: module 'os' has no attribute 'exists'"
     ]
    }
   ],
   "source": [
    "# Load data from file\n",
    "import sqlite3\n",
    "import os \n",
    "\n",
    "if not os.exists.path('task.db'):\n",
    "    # Load the database \n",
    "    conn = sqlite3.connect('task.db')\n",
    "    cursor = conn.cursor()\n",
    "\n",
    "    with open('create_database.sql', 'r') as f:\n",
    "        sql = f.read()\n",
    "\n",
    "    cursor.executescript(sql)"
   ]
  },
  {
   "cell_type": "markdown",
   "metadata": {},
   "source": [
    "In the following code, we will create the different fucntions that will allow us to get the user data"
   ]
  },
  {
   "cell_type": "code",
   "execution_count": 3,
   "metadata": {},
   "outputs": [],
   "source": [
    "# This function passes the data correctly \n",
    "def get_tasks_correctly(user_id: int):\n",
    "    with sqlite3.connect('task.db') as db:\n",
    "        cursor = db.cursor()\n",
    "\n",
    "        cursor.execute('''\n",
    "            SELECT user_id, title, description\n",
    "            FROM tasks\n",
    "            WHERE user_id = ?\n",
    "        ''', (user_id,))\n",
    "\n",
    "        return cursor.fetchall()\n",
    "    \n",
    "\n",
    "# Get the tasks incorrectlty \n",
    "def get_tasks_incorrectly(user_id: id):\n",
    "    with sqlite3.connect('task.db') as db:\n",
    "        cursor = db.cursor()\n",
    "\n",
    "        cursor.execute(f'''\n",
    "            SELECT user_id, title, description\n",
    "            FROM tasks\n",
    "            WHERE user_id = {user_id}\n",
    "        ''')\n",
    "\n",
    "        return cursor.fetchall()"
   ]
  },
  {
   "cell_type": "markdown",
   "metadata": {},
   "source": [
    "Let us run the operations as they should be run and see what we get"
   ]
  },
  {
   "cell_type": "code",
   "execution_count": 4,
   "metadata": {},
   "outputs": [
    {
     "name": "stdout",
     "output_type": "stream",
     "text": [
      "Using Correct function:\n",
      "(2, 'CEO Things', 'Boss people around')\n",
      "(2, 'More CEO Things', 'Schedule random meetings')\n",
      "(2, 'Networking Time', 'Book at 2 month trip to America to play golf... I mean network')\n",
      "\n",
      "Using the incorrect function:\n",
      "(1, 'Create database', 'Create database for the application')\n",
      "(1, 'Create tables', 'Create tables for the database')\n",
      "(1, 'Create views', 'Create views for the database')\n"
     ]
    }
   ],
   "source": [
    "print('Using Correct function:')\n",
    "print(*get_tasks_correctly(2), sep='\\n')\n",
    "\n",
    "print('\\nUsing the incorrect function:')\n",
    "print(*get_tasks_incorrectly(1), sep='\\n')\n"
   ]
  },
  {
   "cell_type": "markdown",
   "metadata": {},
   "source": [
    "Now that we see that everything works as it should, lets see what would happen if we tried to write a malicious script.\n",
    "\n",
    "A SQL injection happens when you include SQL scripts as part of your input with the hope to get details that should not be accessible.\n",
    "\n",
    "In our injection script, we will try view the user detalis, this should include usernames, ids and passwords.\n",
    "\n",
    "Our injections script can be broken down as follows.\n",
    "1. `1` - this is the id that needs to be passed so that the select statement can be executed \n",
    "2. `UNION` - The `execute` method does not allow us to run more than 1 statement at a time, so we need to use an approach that would give us the data we need within a single statement.\n",
    "3. `SELECT id, password, email` - The `UNION` operator requires us to match the number of values being returned in the first statement, as well as the data types being passed. These are also the values that we would like to get.\n",
    "4. `FROM user` - This is the table that we would like to get the values from "
   ]
  },
  {
   "cell_type": "code",
   "execution_count": 9,
   "metadata": {},
   "outputs": [
    {
     "name": "stdout",
     "output_type": "stream",
     "text": [
      "Using Correct function:\n",
      "\n",
      "\n",
      "Using the incorrect function:\n",
      "(1, 'Create database', 'Create database for the application')\n",
      "(1, 'Create tables', 'Create tables for the database')\n",
      "(1, 'Create views', 'Create views for the database')\n",
      "(1, 'no_one_will_ever_know', 'admin@email.com')\n",
      "(2, 'i_use_the_same_password_everywhere_at_least_this_application_is_secure', 'jimmy.ceo@email.com')\n",
      "(3, 'i_dont_trust_this_database', 'john@email.com')\n",
      "(4, 'i_hope_this_is_encrypted', 'jane@email.com')\n"
     ]
    }
   ],
   "source": [
    "# Injection script \n",
    "injection_script = '''\n",
    "    1\n",
    "    UNION \n",
    "    SELECT id, password, email\n",
    "    FROM user \n",
    "'''\n",
    "\n",
    "print('Using Correct function:')\n",
    "print(*get_tasks_correctly(injection_script), sep='\\n')\n",
    "\n",
    "print('\\nUsing the incorrect function:')\n",
    "print(*get_tasks_incorrectly(injection_script), sep='\\n')\n"
   ]
  },
  {
   "cell_type": "markdown",
   "metadata": {},
   "source": [
    "As you can see, the first function does not return any values while the second function will return the results for our `UNION` operation."
   ]
  },
  {
   "cell_type": "markdown",
   "metadata": {},
   "source": [
    "# Connecting Other Databases \n",
    "As mentioned earlier, SQLite is not the best choice when it comes to working with large-scale applications, as you can see in the examples, SQLite creates the database file within the project file similar to a text file, the only difference is that you can’t open the file and view the data… without the correct tools of course.\n",
    "\n",
    "SQLite is still a good option when you want to store user-specific data locally, but beyond that, it’s not a good choice.\n",
    "\n",
    "For any project that might need to have a hosted database or require a more robust solution, it’s best to use a more powerful database solution.\n",
    "\n",
    "When it comes to working with SQL, there are 3 databases that stand out, SQL Server, PostgreSQL and MySQL\n",
    "\n",
    "### Connecting\n",
    "\n",
    "To connect to one of these databases, the first thing you will need is a database service. There are 3 options that I can think of, each has its pros and cons so it’ll be up to you to choose the right option for you.\n",
    "\n",
    "**Installing the database locally** \n",
    "\n",
    "This is probably the most common approach if you want to work with a certain database tool very often, it allows you to turn your computer into a database server\n",
    "\n",
    "pros:\n",
    "\n",
    "- You can connect to it anytime you want\n",
    "- Good for working offline\n",
    "- Most database services will come with dedicated tools for interacting with the database, so that’s cool\n",
    "\n",
    "Cons:\n",
    "\n",
    "- Very complicated to set up\n",
    "- Probably leaves you stuck working with a single database since you won’t want to configure another one\n",
    "- The database service will always be running in the background\n",
    "\n",
    "**Installing through docker**\n",
    "\n",
    "Docker is a really good tool that allows you to run services locally, but in an isolated environment making it really easy to build and teardown systems at a wim.\n",
    "\n",
    "pros:\n",
    "\n",
    "- Lets you store database images that can be run when required, and destroyed when not needed, this encourages you to test out different databases without worrying about them always running in the background\n",
    "- Limited database setup, the databases are mostly set up for you.\n",
    "- More flexible as you can work on different machines, you can be sure that all of the machines you build on are using the same version of a database and there will be no compatibility issues.\n",
    "\n",
    "Cons:\n",
    "\n",
    "- Learning curve, but the process of setting up docker and getting a database image is still quicker than installing a database locally\n",
    "- Image size, some images can be gigabytes large\n",
    "\n",
    "**Cloud Solution** \n",
    "\n",
    "The other option is to set up a database in the cloud and connect to it in your application. If you are using a low-end machine but still want to use a powerful database, this is a really good workaround.\n",
    "\n",
    "Pros:\n",
    "\n",
    "- Great option for low-spec machines\n",
    "- Super easy to set up when working with the right provider\n",
    "- Less setup time when working on more than 1 machine, the only thing you need to setup is the credentials (because we should never store credentials when pushing our code to a repository)\n",
    "\n",
    "Cons:\n",
    "\n",
    "- Limited free options, SQL Server for example usually requires paid hosting (and a paid license)\n",
    "- You have to work online all of the time, this can be limiting when the network is bad\n"
   ]
  },
  {
   "cell_type": "markdown",
   "metadata": {},
   "source": [
    "## 2. Connecting to a database in Python\n",
    "\n",
    "When connecting to a database in Python, you will need to install the correct module that allows you to interact with the specific database that you want to work with, for example, if you want to work with PostgreSQL, you will need to install `psycopg2` .\n",
    "\n",
    "For this example, I will be working with SQL Server, so I will be installing `pyodbc`\n",
    "\n",
    "All we need to do is get our database connection details from our database provider and then enter the deatils in a connection string, we will then use that connection string to connect to the database using `pyodbc` and from there, we can use all of the same operations as we did when we used SQLite"
   ]
  },
  {
   "cell_type": "code",
   "execution_count": 23,
   "metadata": {},
   "outputs": [],
   "source": [
    "import pyodbc\n",
    "\n",
    "conn_string = '''Driver={SQL Server Native Client 11.0};\n",
    "                 Server=(localdb)\\MSSQLLocalDB;\n",
    "                 Database=ACME_DATABASE;\n",
    "                 Trusted_Connection=yes;'''\n",
    "\n",
    "conn = pyodbc.connect(conn_string)"
   ]
  },
  {
   "cell_type": "code",
   "execution_count": 28,
   "metadata": {},
   "outputs": [
    {
     "name": "stdout",
     "output_type": "stream",
     "text": [
      "(24, 'Harley Benton Fusion-II HSH Roasred FNT', Decimal('5493.1400'), 'Very elagent looking stang', 5, 'N/A', 5, 0, 30)\n",
      "(25, 'Harley Benton Amarok-6 BKBL Flame Burst', Decimal('6842.3300'), 'Black bent', 5, 'N/A', 5, 0, 25)\n",
      "(26, 'Harley Benton CST-24T P90 Black', Decimal('3411.5300'), 'It has a P90', 5, 'B/A', 5, 45, 40)\n",
      "(27, 'Fender Squier Affinity Strat RR IL', Decimal('2775.4800'), 'Get you a strat brah', 6, 'N/A', 5, 15, 100)\n",
      "(28, 'Fender SQ Bullet Strat HT HSS IL AWT', Decimal('1773.2200'), 'It is a bullet strat, what do you expect from it', 6, 'N/A', 5, 0, 150)\n"
     ]
    }
   ],
   "source": [
    "cursor = conn.cursor()\n",
    "cursor.execute('SELECT TOP(5) * FROM product')\n",
    "\n",
    "for row in cursor:\n",
    "    print(row)\n",
    "\n",
    "conn.close()"
   ]
  },
  {
   "cell_type": "markdown",
   "metadata": {},
   "source": [
    "## 3. Connecting to Pandas\n",
    "\n",
    "As a data scientist, you might want to read from a SQL database and analyse the data in Python using Pandas, we can do this by setting the source of our data when we create our data frame using the `read_sql` method.\n",
    "\n",
    "Lets take a look."
   ]
  },
  {
   "cell_type": "code",
   "execution_count": 1,
   "metadata": {},
   "outputs": [],
   "source": [
    "import pyodbc\n",
    "import pandas as pd\n",
    "\n",
    "conn_string = '''Driver={SQL Server Native Client 11.0};\n",
    "                 Server=(localdb)\\MSSQLLocalDB;\n",
    "                 Database=ACME_DATABASE;\n",
    "                 Trusted_Connection=yes;'''\n",
    "\n",
    "conn = pyodbc.connect(conn_string)"
   ]
  },
  {
   "cell_type": "markdown",
   "metadata": {},
   "source": [
    "Pandas only allows us to work with 1 table at a time, but we can use the power of SQL to perform select statements and return the columns that we would like to work with.\n",
    "\n",
    "We are connected to a database that simulates an online guitar store so we have a bunch of product and user related tables, but for our use case, we are interested in the transactions history. \n",
    "\n",
    "Let's load the table into Pandas and see what we have."
   ]
  },
  {
   "cell_type": "code",
   "execution_count": 2,
   "metadata": {},
   "outputs": [
    {
     "name": "stderr",
     "output_type": "stream",
     "text": [
      "C:\\Users\\BonganiBG\\AppData\\Local\\Temp\\ipykernel_9252\\3882765838.py:6: UserWarning: pandas only supports SQLAlchemy connectable (engine/connection) or database string URI or sqlite3 DBAPI2 connection. Other DBAPI2 objects are not tested. Please consider using SQLAlchemy.\n",
      "  transactions_df = pd.read_sql(sql_query, conn)\n"
     ]
    },
    {
     "data": {
      "text/html": [
       "<div>\n",
       "<style scoped>\n",
       "    .dataframe tbody tr th:only-of-type {\n",
       "        vertical-align: middle;\n",
       "    }\n",
       "\n",
       "    .dataframe tbody tr th {\n",
       "        vertical-align: top;\n",
       "    }\n",
       "\n",
       "    .dataframe thead th {\n",
       "        text-align: right;\n",
       "    }\n",
       "</style>\n",
       "<table border=\"1\" class=\"dataframe\">\n",
       "  <thead>\n",
       "    <tr style=\"text-align: right;\">\n",
       "      <th></th>\n",
       "      <th>TransactionID</th>\n",
       "      <th>UserID</th>\n",
       "      <th>ProductID</th>\n",
       "      <th>CategoryID</th>\n",
       "      <th>TransactionDate</th>\n",
       "      <th>TransactionTime</th>\n",
       "      <th>PricePaid</th>\n",
       "    </tr>\n",
       "  </thead>\n",
       "  <tbody>\n",
       "    <tr>\n",
       "      <th>120974</th>\n",
       "      <td>121130</td>\n",
       "      <td>19</td>\n",
       "      <td>59</td>\n",
       "      <td>7</td>\n",
       "      <td>2021-03-15</td>\n",
       "      <td>00:00:00</td>\n",
       "      <td>95.94</td>\n",
       "    </tr>\n",
       "    <tr>\n",
       "      <th>120975</th>\n",
       "      <td>121131</td>\n",
       "      <td>19</td>\n",
       "      <td>59</td>\n",
       "      <td>7</td>\n",
       "      <td>2021-03-15</td>\n",
       "      <td>00:00:00</td>\n",
       "      <td>95.94</td>\n",
       "    </tr>\n",
       "    <tr>\n",
       "      <th>120976</th>\n",
       "      <td>121141</td>\n",
       "      <td>8</td>\n",
       "      <td>25</td>\n",
       "      <td>5</td>\n",
       "      <td>2021-06-14</td>\n",
       "      <td>16:26:59.637845</td>\n",
       "      <td>6842.33</td>\n",
       "    </tr>\n",
       "    <tr>\n",
       "      <th>120977</th>\n",
       "      <td>121142</td>\n",
       "      <td>8</td>\n",
       "      <td>40</td>\n",
       "      <td>6</td>\n",
       "      <td>2021-06-14</td>\n",
       "      <td>16:26:59.641845</td>\n",
       "      <td>12836.60</td>\n",
       "    </tr>\n",
       "    <tr>\n",
       "      <th>120978</th>\n",
       "      <td>121143</td>\n",
       "      <td>8</td>\n",
       "      <td>24</td>\n",
       "      <td>5</td>\n",
       "      <td>2021-06-14</td>\n",
       "      <td>16:26:59.641845</td>\n",
       "      <td>5493.14</td>\n",
       "    </tr>\n",
       "  </tbody>\n",
       "</table>\n",
       "</div>"
      ],
      "text/plain": [
       "        TransactionID  UserID  ProductID  CategoryID TransactionDate  \\\n",
       "120974         121130      19         59           7      2021-03-15   \n",
       "120975         121131      19         59           7      2021-03-15   \n",
       "120976         121141       8         25           5      2021-06-14   \n",
       "120977         121142       8         40           6      2021-06-14   \n",
       "120978         121143       8         24           5      2021-06-14   \n",
       "\n",
       "        TransactionTime  PricePaid  \n",
       "120974         00:00:00      95.94  \n",
       "120975         00:00:00      95.94  \n",
       "120976  16:26:59.637845    6842.33  \n",
       "120977  16:26:59.641845   12836.60  \n",
       "120978  16:26:59.641845    5493.14  "
      ]
     },
     "execution_count": 2,
     "metadata": {},
     "output_type": "execute_result"
    }
   ],
   "source": [
    "sql_query = \"\"\"\n",
    "    SELECT * \n",
    "    FROM transactions    \n",
    "\"\"\"\n",
    "\n",
    "transactions_df = pd.read_sql(sql_query, conn)\n",
    "transactions_df.tail()"
   ]
  },
  {
   "cell_type": "markdown",
   "metadata": {},
   "source": [
    "So as you can see, the transaction table has references to different tables, so instead of getting `ProductName` for example, we are getting `ProductID`, we can solve this problem by performing a bit of SQL to get the columns that would be helpful to our analysis.\n",
    "\n",
    "In the following code, we will use a SQL merge the information from our `Category` and `Product` tables to the `Transaction` table. We have ommit certain columns like the `TransactionID`, `UserID` and `TransactionTime` from the pervious result. We have also added aliases to the names so that they are a more concise and straight forward"
   ]
  },
  {
   "cell_type": "code",
   "execution_count": 3,
   "metadata": {},
   "outputs": [
    {
     "name": "stderr",
     "output_type": "stream",
     "text": [
      "C:\\Users\\BonganiBG\\AppData\\Local\\Temp\\ipykernel_9252\\419655226.py:12: UserWarning: pandas only supports SQLAlchemy connectable (engine/connection) or database string URI or sqlite3 DBAPI2 connection. Other DBAPI2 objects are not tested. Please consider using SQLAlchemy.\n",
      "  transactions_df = pd.read_sql(sql_query, conn)\n"
     ]
    },
    {
     "data": {
      "text/html": [
       "<div>\n",
       "<style scoped>\n",
       "    .dataframe tbody tr th:only-of-type {\n",
       "        vertical-align: middle;\n",
       "    }\n",
       "\n",
       "    .dataframe tbody tr th {\n",
       "        vertical-align: top;\n",
       "    }\n",
       "\n",
       "    .dataframe thead th {\n",
       "        text-align: right;\n",
       "    }\n",
       "</style>\n",
       "<table border=\"1\" class=\"dataframe\">\n",
       "  <thead>\n",
       "    <tr style=\"text-align: right;\">\n",
       "      <th></th>\n",
       "      <th>date</th>\n",
       "      <th>price</th>\n",
       "      <th>product</th>\n",
       "      <th>category</th>\n",
       "    </tr>\n",
       "  </thead>\n",
       "  <tbody>\n",
       "    <tr>\n",
       "      <th>120974</th>\n",
       "      <td>2021-03-15</td>\n",
       "      <td>95.94</td>\n",
       "      <td>Daddario EXL130</td>\n",
       "      <td>Strings</td>\n",
       "    </tr>\n",
       "    <tr>\n",
       "      <th>120975</th>\n",
       "      <td>2021-03-15</td>\n",
       "      <td>95.94</td>\n",
       "      <td>Daddario EXL130</td>\n",
       "      <td>Strings</td>\n",
       "    </tr>\n",
       "    <tr>\n",
       "      <th>120976</th>\n",
       "      <td>2021-06-14</td>\n",
       "      <td>6842.33</td>\n",
       "      <td>Harley Benton Amarok-6 BKBL Flame Burst</td>\n",
       "      <td>Guitars</td>\n",
       "    </tr>\n",
       "    <tr>\n",
       "      <th>120977</th>\n",
       "      <td>2021-06-14</td>\n",
       "      <td>12836.60</td>\n",
       "      <td>Orange TH30H</td>\n",
       "      <td>Amplifiers</td>\n",
       "    </tr>\n",
       "    <tr>\n",
       "      <th>120978</th>\n",
       "      <td>2021-06-14</td>\n",
       "      <td>5493.14</td>\n",
       "      <td>Harley Benton Fusion-II HSH Roasred FNT</td>\n",
       "      <td>Guitars</td>\n",
       "    </tr>\n",
       "  </tbody>\n",
       "</table>\n",
       "</div>"
      ],
      "text/plain": [
       "              date     price                                  product  \\\n",
       "120974  2021-03-15     95.94                          Daddario EXL130   \n",
       "120975  2021-03-15     95.94                          Daddario EXL130   \n",
       "120976  2021-06-14   6842.33  Harley Benton Amarok-6 BKBL Flame Burst   \n",
       "120977  2021-06-14  12836.60                             Orange TH30H   \n",
       "120978  2021-06-14   5493.14  Harley Benton Fusion-II HSH Roasred FNT   \n",
       "\n",
       "          category  \n",
       "120974     Strings  \n",
       "120975     Strings  \n",
       "120976     Guitars  \n",
       "120977  Amplifiers  \n",
       "120978     Guitars  "
      ]
     },
     "execution_count": 3,
     "metadata": {},
     "output_type": "execute_result"
    }
   ],
   "source": [
    "sql_query = \"\"\"\n",
    "    SELECT TransactionDate as date, \n",
    "\t   PricePaid as price, ProdName as product,\n",
    "\t   CategoryName as category\n",
    "    FROM Transactions t\n",
    "    LEFT JOIN Product p\n",
    "        ON t.ProductID = p.ProductID\n",
    "    LEFT JOIN Category c\n",
    "        ON t.CategoryID = c.CategoryID\n",
    "\"\"\"\n",
    "\n",
    "transactions_df = pd.read_sql(sql_query, conn)\n",
    "transactions_df.tail()"
   ]
  },
  {
   "cell_type": "markdown",
   "metadata": {},
   "source": [
    "We can now perform normal analysis of our data, let's take a look at which date had the best sales."
   ]
  },
  {
   "cell_type": "code",
   "execution_count": 12,
   "metadata": {},
   "outputs": [
    {
     "data": {
      "image/png": "[encoded data removed]",
      "text/plain": [
       "<Figure size 640x480 with 1 Axes>"
      ]
     },
     "metadata": {},
     "output_type": "display_data"
    }
   ],
   "source": [
    "import matplotlib.pyplot as plt\n",
    "total_sale_prices_by_date = transactions_df.groupby(\"date\")[\"price\"].sum()\n",
    "total_sales_by_date = transactions_df.groupby(\"date\")[\"price\"].count()  \n",
    "\n",
    "fig, ax = plt.subplots()\n",
    "\n",
    "ax.plot(total_sale_prices_by_date.index, total_sales_by_date.values, color=\"b\")\n",
    "ax.bar(total_sales_by_date.index, total_sales_by_date.values, color='r')\n",
    "ax.set_xlabel('Date')\n",
    "plt.xticks(rotation=90)\n",
    "\n",
    "plt.show()"
   ]
  },
  {
   "cell_type": "markdown",
   "metadata": {},
   "source": [
    "## Connecting to an ORM \n",
    "\n",
    "As software engineers, we're somewhat alergic to SQL and working directly with databases. This is where ORMs come into play.\n",
    "\n",
    "An ORM (Object Relational Mapper) is a tool that allows you to map you Python classes to database tables. ORMs allow you to perform all of the database operations that you need to perform without having to write any SQL which can be really convenient especially if your applications are OOP, when you build an OOP application that connects to a database, you need to create classes that map to the tables, connecting to SQL directly adds more operations that you need to perform as you would need to write the statement for performing CRUD operations. With an ORM, you just need to plug the existing model classes in your application to the ORM and you're ready to go.\n",
    "\n",
    "Some Python Frameworks like Django will include their own built in ORMs, but one popular ORM that you can use for any Python project is `sqlalchemy` which can be installed using `pip install sqlalchemy`"
   ]
  },
  {
   "cell_type": "code",
   "execution_count": 18,
   "metadata": {},
   "outputs": [
    {
     "name": "stdout",
     "output_type": "stream",
     "text": [
      "2024-02-13 11:14:37,221 INFO sqlalchemy.engine.Engine BEGIN (implicit)\n",
      "2024-02-13 11:14:37,222 INFO sqlalchemy.engine.Engine PRAGMA main.table_info(\"person\")\n",
      "2024-02-13 11:14:37,223 INFO sqlalchemy.engine.Engine [raw sql] ()\n",
      "2024-02-13 11:14:37,224 INFO sqlalchemy.engine.Engine COMMIT\n",
      "2024-02-13 11:14:37,227 INFO sqlalchemy.engine.Engine BEGIN (implicit)\n",
      "2024-02-13 11:14:37,229 INFO sqlalchemy.engine.Engine INSERT INTO person (name, fullname, nickname) VALUES (?, ?, ?)\n",
      "2024-02-13 11:14:37,229 INFO sqlalchemy.engine.Engine [generated in 0.00067s] ('Jack', 'Jack Smith', 'Jackie')\n",
      "2024-02-13 11:14:37,231 INFO sqlalchemy.engine.Engine COMMIT\n"
     ]
    }
   ],
   "source": [
    "from sqlalchemy import create_engine, ForeignKey\n",
    "from sqlalchemy import Column, Integer, String, CHAR, Date\n",
    "from sqlalchemy.orm import DeclarativeBase\n",
    "from sqlalchemy.orm import sessionmaker\n",
    "\n",
    "class Base(DeclarativeBase):\n",
    "    pass\n",
    "\n",
    "class Person(Base):\n",
    "    __tablename__ = 'person' # Required, name of the table\n",
    "    id = Column(Integer, primary_key=True)\n",
    "    name = Column(String(50))\n",
    "    fullname = Column(String(50))\n",
    "    nickname = Column(String(50))\n",
    "\n",
    "    def __init__(self, name, fullname, nickname):\n",
    "        self.name = name\n",
    "        self.fullname = fullname\n",
    "        self.nickname = nickname\n",
    "\n",
    "    def __repr__(self):\n",
    "        return f\"<Person(name={self.name}, fullname={self.fullname}, nickname={self.nickname})>\"\n",
    "    \n",
    "\n",
    "engine = create_engine('sqlite:///people.db', echo=True) # The database we want to use (sqlite) and th e name of the file (people.db)\n",
    "Base.metadata.create_all(bind=engine) # connects all of the databases that connect to the base \n",
    "\n",
    "Session = sessionmaker(bind=engine)\n",
    "session = Session()\n",
    "\n",
    "person = Person('Jack', 'Jack Smith', 'Jackie') # Crate our person object\n",
    "session.add(person) # Write the person to the database\n",
    "session.commit() # Commit the changes to the database\n",
    "\n"
   ]
  },
  {
   "cell_type": "markdown",
   "metadata": {},
   "source": [
    "If you would like more detailed steps on how to us `sqlalchemy` you can take a look at this video [Link](https://www.youtube.com/watch?v=AKQ3XEDI9Mw).\n",
    "\n",
    "Lets add a bunch of people and read from the database."
   ]
  },
  {
   "cell_type": "code",
   "execution_count": 19,
   "metadata": {},
   "outputs": [
    {
     "name": "stdout",
     "output_type": "stream",
     "text": [
      "2024-02-13 11:27:11,922 INFO sqlalchemy.engine.Engine BEGIN (implicit)\n",
      "2024-02-13 11:27:11,925 INFO sqlalchemy.engine.Engine INSERT INTO person (name, fullname, nickname) VALUES (?, ?, ?) RETURNING id\n",
      "2024-02-13 11:27:11,926 INFO sqlalchemy.engine.Engine [generated in 0.00014s (insertmanyvalues) 1/5 (ordered; batch not supported)] ('Matthew', 'Matthew Sanders ', 'M. Shadows')\n",
      "2024-02-13 11:27:11,928 INFO sqlalchemy.engine.Engine INSERT INTO person (name, fullname, nickname) VALUES (?, ?, ?) RETURNING id\n",
      "2024-02-13 11:27:11,930 INFO sqlalchemy.engine.Engine [insertmanyvalues 2/5 (ordered; batch not supported)] ('James', 'James Sullivan', 'The Rev')\n",
      "2024-02-13 11:27:11,931 INFO sqlalchemy.engine.Engine INSERT INTO person (name, fullname, nickname) VALUES (?, ?, ?) RETURNING id\n",
      "2024-02-13 11:27:11,932 INFO sqlalchemy.engine.Engine [insertmanyvalues 3/5 (ordered; batch not supported)] ('Brian', 'Brian Haner ', 'Synyster Gates')\n",
      "2024-02-13 11:27:11,934 INFO sqlalchemy.engine.Engine INSERT INTO person (name, fullname, nickname) VALUES (?, ?, ?) RETURNING id\n",
      "2024-02-13 11:27:11,935 INFO sqlalchemy.engine.Engine [insertmanyvalues 4/5 (ordered; batch not supported)] ('Zachary', 'Zachary Baker ', 'Synyster Gates')\n",
      "2024-02-13 11:27:11,937 INFO sqlalchemy.engine.Engine INSERT INTO person (name, fullname, nickname) VALUES (?, ?, ?) RETURNING id\n",
      "2024-02-13 11:27:11,938 INFO sqlalchemy.engine.Engine [insertmanyvalues 5/5 (ordered; batch not supported)] ('Jonathan', 'Jonathan Seward', 'Johnny Christ')\n",
      "2024-02-13 11:27:11,940 INFO sqlalchemy.engine.Engine COMMIT\n"
     ]
    }
   ],
   "source": [
    "people = [\n",
    "    Person('Matthew', 'Matthew Sanders ', 'M. Shadows'),\n",
    "    Person('James', 'James Sullivan', 'The Rev'),\n",
    "    Person('Brian', 'Brian Haner ', 'Synyster Gates'),\n",
    "    Person('Zachary', 'Zachary Baker ', 'Synyster Gates'),\n",
    "    Person('Jonathan', 'Jonathan Seward', 'Johnny Christ'),\n",
    "]\n",
    "\n",
    "for person in people:\n",
    "    session.add(person)\n",
    "\n",
    "session.commit()"
   ]
  },
  {
   "cell_type": "code",
   "execution_count": 20,
   "metadata": {},
   "outputs": [
    {
     "name": "stdout",
     "output_type": "stream",
     "text": [
      "2024-02-13 11:28:44,506 INFO sqlalchemy.engine.Engine BEGIN (implicit)\n",
      "2024-02-13 11:28:44,509 INFO sqlalchemy.engine.Engine SELECT person.id AS person_id, person.name AS person_name, person.fullname AS person_fullname, person.nickname AS person_nickname \n",
      "FROM person\n",
      "2024-02-13 11:28:44,510 INFO sqlalchemy.engine.Engine [generated in 0.00119s] ()\n",
      "[<Person(name=Jack, fullname=Jack Smith, nickname=Jackie)>, <Person(name=Matthew, fullname=Matthew Sanders , nickname=M. Shadows)>, <Person(name=James, fullname=James Sullivan, nickname=The Rev)>, <Person(name=Brian, fullname=Brian Haner , nickname=Synyster Gates)>, <Person(name=Zachary, fullname=Zachary Baker , nickname=Synyster Gates)>, <Person(name=Jonathan, fullname=Jonathan Seward, nickname=Johnny Christ)>]\n"
     ]
    }
   ],
   "source": [
    "all_people = session.query(Person).all()\n",
    "print(all_people)"
   ]
  },
  {
   "cell_type": "code",
   "execution_count": 27,
   "metadata": {},
   "outputs": [
    {
     "name": "stdout",
     "output_type": "stream",
     "text": [
      "2024-02-13 11:32:02,368 INFO sqlalchemy.engine.Engine SELECT person.id AS person_id, person.name AS person_name, person.fullname AS person_fullname, person.nickname AS person_nickname \n",
      "FROM person \n",
      "WHERE person.name = ?\n",
      " LIMIT ? OFFSET ?\n",
      "2024-02-13 11:32:02,369 INFO sqlalchemy.engine.Engine [cached since 73.55s ago] ('James', 1, 0)\n",
      "Name: James\n",
      "Full Name: James Sullivan\n",
      "Nickname: The Rev\n"
     ]
    }
   ],
   "source": [
    "the_rev = session.query(Person).where(Person.name == 'James').first()\n",
    "print(\"Name:\", the_rev.name)\n",
    "print(\"Full Name:\", the_rev.fullname)\n",
    "print(\"Nickname:\", the_rev.nickname)"
   ]
  }
 ],
 "metadata": {
  "kernelspec": {
   "display_name": "Python 3",
   "language": "python",
   "name": "python3"
  },
  "language_info": {
   "codemirror_mode": {
    "name": "ipython",
    "version": 3
   },
   "file_extension": ".py",
   "mimetype": "text/x-python",
   "name": "python",
   "nbconvert_exporter": "python",
   "pygments_lexer": "ipython3",
   "version": "3.11.2"
  }
 },
 "nbformat": 4,
 "nbformat_minor": 2
}
