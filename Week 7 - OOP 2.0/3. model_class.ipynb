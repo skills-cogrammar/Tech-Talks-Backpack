{
 "cells": [
  {
   "cell_type": "markdown",
   "metadata": {},
   "source": [
    "# Model Class\n",
    "\n",
    "#### What is it \n",
    "- Describes real world entities \n",
    "- Can be directly compared to variabels as it is used to store and pass data \n",
    "- We can create data types and data structures out of model classes \n",
    "\n",
    "#### Implementation\n",
    "- Attributes are the most important part of model classes \n",
    "- Methods are only used to work on the attributes of the class \n",
    "\n",
    "#### Uses \n",
    "- We can use them to easily pass data \n",
    "    - Instead of passing multiple variable to every function that wants to perform similar operations, we can use a single class object to pass this information \n",
    "- We can easily deserialize values from csv files and json files and have a bit of type safety \n",
    "    - We know that the application will either crash or create default values if the file has missing data \n",
    "- Custom Data structures\n",
    "    - We can create our own data structures that better model how we want to work with our data if predefined data structures don't meet our needs \n"
   ]
  },
  {
   "cell_type": "markdown",
   "metadata": {},
   "source": [
    "## Creating a model class \n",
    "- Attributes are the most important part \n",
    "- Methods should directly work with attributes\n",
    "- We can use access modifiers and methods to have better control of the data being writtent to attributes \n"
   ]
  },
  {
   "cell_type": "markdown",
   "metadata": {},
   "source": [
    "1. Creating a basic model that does not have any methods and just contains attributes that need to be directly assigned"
   ]
  },
  {
   "cell_type": "code",
   "execution_count": 1,
   "metadata": {},
   "outputs": [
    {
     "name": "stdout",
     "output_type": "stream",
     "text": [
      "Before setting name: None\n",
      "After setting name: John\n"
     ]
    }
   ],
   "source": [
    "# Most basic model class \n",
    "class Person():\n",
    "    # None denotes that there is no value being stored at the moment\n",
    "    name = None\n",
    "    surname = None\n",
    "    age = None\n",
    "\n",
    "# Using the class \n",
    "person = Person()\n",
    "print(\"Before setting name:\", person.name)\n",
    "\n",
    "# Set the name \n",
    "person.name = \"John\"\n",
    "print(\"After setting name:\", person.name)\n",
    "\n"
   ]
  },
  {
   "cell_type": "markdown",
   "metadata": {},
   "source": [
    "2. Passing the attributes as parameters on initialization so that we do not need to manually fill each value when creating the object "
   ]
  },
  {
   "cell_type": "code",
   "execution_count": 3,
   "metadata": {},
   "outputs": [
    {
     "name": "stdout",
     "output_type": "stream",
     "text": [
      "Jack\n"
     ]
    }
   ],
   "source": [
    "# Adding a constructor \n",
    "\n",
    "class Person:    \n",
    "    def __init__(self, name, surname, age):\n",
    "        self.name = name\n",
    "        self.age = age\n",
    "        self.surname = surname\n",
    "\n",
    "# Create person\n",
    "person = Person('Jack', 'Jackson', 30)\n",
    "\n",
    "print(person.name)\n",
    "\n"
   ]
  },
  {
   "cell_type": "markdown",
   "metadata": {},
   "source": [
    "3. Using access modifiers and methods to change the values that are being store\n",
    "\n",
    "*In this example, we only want the age to be incremented by 1, so we make the age attribute private to prevent the user from manually setting the age variable*"
   ]
  },
  {
   "cell_type": "code",
   "execution_count": 4,
   "metadata": {},
   "outputs": [
    {
     "name": "stdout",
     "output_type": "stream",
     "text": [
      "Original age 30\n",
      "Updated age 31\n"
     ]
    }
   ],
   "source": [
    "class Person():\n",
    "    def __init__(self, name, surname, age):\n",
    "        self.name = name        \n",
    "        self.surname = surname\n",
    "\n",
    "        self.__age = age\n",
    "\n",
    "    def incrememnt_age(self):\n",
    "        self.__age += 1\n",
    "\n",
    "    def get_age(self):\n",
    "        return self.__age\n",
    "\n",
    "\n",
    "# Create person\n",
    "person = Person('Jack', 'Jackson', 30)\n",
    "\n",
    "# Person original age \n",
    "print(\"Original age\", person.get_age())\n",
    "\n",
    "# update age \n",
    "person.incrememnt_age()\n",
    "print(\"Updated age\", person.get_age())"
   ]
  },
  {
   "cell_type": "code",
   "execution_count": 5,
   "metadata": {},
   "outputs": [
    {
     "name": "stdout",
     "output_type": "stream",
     "text": [
      "Original age 30\n",
      "Updated age 31\n"
     ]
    }
   ],
   "source": [
    "# A more advanced implementation of access modifiers \n",
    "class Person():\n",
    "    def __init__(self, name, surname, age):\n",
    "        self.name = name        \n",
    "        self.surname = surname\n",
    "\n",
    "        self.__age = age\n",
    "\n",
    "    def incrememnt_age(self):\n",
    "        self.__age += 1\n",
    "\n",
    "    # This is a decorator that will allow the user to call the function name \n",
    "    # as if it was an attribute and return the value of the private variable \n",
    "    @property\n",
    "    def age(self):\n",
    "        return self.__age\n",
    "    \n",
    "# Create person\n",
    "person = Person('Jack', 'Jackson', 30)\n",
    "\n",
    "# Person original age \n",
    "print(\"Original age\", person.age)\n",
    "\n",
    "# update age \n",
    "person.incrememnt_age()\n",
    "print(\"Updated age\", person.age)\n",
    "\n",
    "    "
   ]
  }
 ],
 "metadata": {
  "kernelspec": {
   "display_name": "Python 3",
   "language": "python",
   "name": "python3"
  },
  "language_info": {
   "codemirror_mode": {
    "name": "ipython",
    "version": 3
   },
   "file_extension": ".py",
   "mimetype": "text/x-python",
   "name": "python",
   "nbconvert_exporter": "python",
   "pygments_lexer": "ipython3",
   "version": "3.11.2"
  }
 },
 "nbformat": 4,
 "nbformat_minor": 2
}
