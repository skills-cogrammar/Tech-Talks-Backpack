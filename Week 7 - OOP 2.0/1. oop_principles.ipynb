{
 "cells": [
  {
   "cell_type": "markdown",
   "metadata": {},
   "source": [
    "# Object Oriented Programming \n",
    "\n",
    "There are 4 principles when it comes to object oriented programming, Where possible, it's important to try an implement each of the principles.\n",
    "\n",
    "The ease of applying each of the principles depends on the language you are using, some languages like Java and C# are built around these concepts and make them really easy to implement, where a language like Python or JavaScript would require more thought to implement these techniques.\n",
    "\n",
    "The most important techniques to keep in mind are `Encapsulation` and `Inheritance`, `Abstraction` and `Polymorphism` are not always easy to implement in languages like Python and JavaScript \n",
    "\n",
    "### Principles\n",
    "- Encapsulation \n",
    "- Inheritance \n",
    "- Abstraction \n",
    "- Polymorphism\n"
   ]
  },
  {
   "cell_type": "markdown",
   "metadata": {},
   "source": [
    "## Encapsulation \n",
    "This is the underlying principle behind classe, the goal of this is to take related operations and attributes and contain then within a single unit.\n",
    "\n",
    "#### Benefits\n",
    "- Makes it easier to pass data between different functions \n",
    "    - Instead of passing 5 different variables, we pass a single class object\n",
    "- We can hide the complexity of our code from the user \n",
    "    - The user will only need to see what we need them to see, reducing the chances of code misuse \n",
    "- Allows use to enforce implementation rules \n",
    "    - We can set parameters that are required so that the object can be created, allowing us to confidently pass the object knowing that we have complete data \n"
   ]
  },
  {
   "cell_type": "markdown",
   "metadata": {},
   "source": [
    "#### 1. Examine the List object \n",
    "- Remember that all data types and variables are objects in python \n",
    "\n",
    "Built in data types and data structures are a good way to see encapsulation in action as they put related operations and attributes together in order to make working with data easier, they also allow for easier transfer of information.\n",
    "\n",
    "Methods from data types and data structures give us a good view of how encapsulation works, one example would be the `remove()` method from the `list` class.\n",
    "You might have used the `remove()` method to delete an item from a position, but have you ever thought of what this method actually does in order to be able to delete the value.\n",
    "\n",
    "Have you ever thought of how you are still able to access index `1` after performing `my_list.remove(1)`. This is the point of encapsulation, it allows the user of the method to just use the method knowing that they will get their required output and not really have to know about the inner workings of the method."
   ]
  },
  {
   "cell_type": "code",
   "execution_count": 6,
   "metadata": {},
   "outputs": [
    {
     "name": "stdout",
     "output_type": "stream",
     "text": [
      "Original list: [1, 2, 3]\n",
      "After removing item 1: [2, 3]\n"
     ]
    }
   ],
   "source": [
    "# Implementing the List method \n",
    "\n",
    "# Create list \n",
    "my_list = [1,2,3]\n",
    "\n",
    "\n",
    "# Print list\n",
    "print(\"Original list:\", my_list)\n",
    "\n",
    "# Remove first item\n",
    "my_list.remove(1)\n",
    "\n",
    "# Print final list\n",
    "print(\"After removing item 1:\", my_list)"
   ]
  },
  {
   "cell_type": "markdown",
   "metadata": {},
   "source": [
    "#### Assumptions about `remove()`\n",
    "\n",
    "Every method has code behind it, in this section, we make some assumptions about how the `remove()` method might be running under the hood in our own custom implementation of the method.  "
   ]
  },
  {
   "cell_type": "code",
   "execution_count": 8,
   "metadata": {},
   "outputs": [
    {
     "name": "stdout",
     "output_type": "stream",
     "text": [
      "Original list: [1, 2, 3, 4, 5]\n",
      "Updated list: [2, 3, 4, 5]\n"
     ]
    }
   ],
   "source": [
    "class CustomList():\n",
    "    __list = []\n",
    "\n",
    "    def __init__(self, list):\n",
    "        self.__list = list\n",
    "\n",
    "    def remove(self, position):\n",
    "        \n",
    "        # The original method throws an error if the position is out of range\n",
    "        if position < 0 or position >= len(self.__list):\n",
    "            raise IndexError(\"Index out of range\")\n",
    "\n",
    "        # The original method removes the element at the specified \n",
    "        position -= 1\n",
    "\n",
    "        for i in range(position, len(self.__list) - 1):\n",
    "            self.__list[i] = self.__list[i + 1]\n",
    "            \n",
    "        del self.__list[-1]\n",
    "\n",
    "    def __str__(self):\n",
    "        return str(self.__list)\n",
    "\n",
    "# Create the custom list object \n",
    "my_list = CustomList([1, 2, 3, 4, 5])\n",
    "\n",
    "# Print original List \n",
    "print(\"Original list:\", my_list)\n",
    "\n",
    "# Remove item at 1st position\n",
    "my_list.remove(1)\n",
    "\n",
    "# Print updated list\n",
    "print(\"Updated list:\", my_list)       \n"
   ]
  },
  {
   "cell_type": "markdown",
   "metadata": {},
   "source": [
    "## Inheritance \n",
    "The ability for a class to take attributes and behaviour from another class.\n",
    "\n",
    "### Key Words \n",
    "- Base/Parent Class \n",
    "    - The class that is inherited from \n",
    "- Child/Sub-Class/Derived-Class\n",
    "    - The class that inherits the behaviour from the Base Class \n",
    "\n",
    "### Benefits \n",
    "- We can write code once and reuse it in different places \n",
    "- We can hide implementation details between derived classes "
   ]
  },
  {
   "cell_type": "markdown",
   "metadata": {},
   "source": [
    "##### 1. Inheriting From the List class \n",
    "\n",
    "Every data structure in Python is a class, so like any class, we can inherit from it, this will allow us to make use of basic features while being able to tweak the way these features are implemented in our custom class.\n",
    "\n",
    "For this example, we will be changing the way that values are added to our custom list when we use the `append()` method, instead of adding values to the end of the list, we will add values to the start of the list."
   ]
  },
  {
   "cell_type": "code",
   "execution_count": 22,
   "metadata": {},
   "outputs": [
    {
     "name": "stdout",
     "output_type": "stream",
     "text": [
      "Original list: [1, 2, 3, 4]\n",
      "Updated list: [5, 1, 2, 3, 4]\n"
     ]
    }
   ],
   "source": [
    "class CustomList(list):    \n",
    "\n",
    "    def append(self, __object) -> None:\n",
    "\n",
    "        # Create the new list and add the new item to the front  \n",
    "        new_list = []\n",
    "        new_list.append(__object)\n",
    "\n",
    "        # Add the existing items to the list\n",
    "        for i in range(len(self)):            \n",
    "            new_list.append(self[i])            \n",
    "\n",
    "        # Overwrite the old instance\n",
    "        self.__init__(new_list)\n",
    "    \n",
    "\n",
    "# Initialize List\n",
    "my_list = CustomList([1,2,3,4])\n",
    "\n",
    "# Print Original list \n",
    "print(\"Original list:\", my_list)\n",
    "\n",
    "# Append 5 to list\n",
    "my_list.append(5)\n",
    "\n",
    "# Print Updated list\n",
    "print(\"Updated list:\", my_list)\n"
   ]
  },
  {
   "cell_type": "markdown",
   "metadata": {},
   "source": [
    "#### 2. Using Existing Methods \n",
    "\n",
    "Previously we inherited from the list and changed the way that the `append()` method works to fit what ever weird case we would need to add a new item to the first index of the list.\n",
    "\n",
    "For this section, we will see that although we have one method in our list, we are still able to perform all of the other operations that come with the `list` class."
   ]
  },
  {
   "cell_type": "code",
   "execution_count": 25,
   "metadata": {},
   "outputs": [
    {
     "name": "stdout",
     "output_type": "stream",
     "text": [
      "Original List: [9, 1, 3]\n",
      "Sorted List: [1, 3, 9]\n",
      "First Index: 9\n",
      "Popped List: 3\n"
     ]
    }
   ],
   "source": [
    "class CustomList(list):    \n",
    "\n",
    "    def append(self, __object) -> None:\n",
    "\n",
    "        # Create the new list and add the new item to the front  \n",
    "        new_list = []\n",
    "        new_list.append(__object)\n",
    "\n",
    "        # Add the existing items to the list\n",
    "        for i in range(len(self)):            \n",
    "            new_list.append(self[i])            \n",
    "\n",
    "        # Overwrite the old instance\n",
    "        self.__init__(new_list)\n",
    "        \n",
    "\n",
    "# Initialize list\n",
    "my_list = CustomList([9, 1, 3])\n",
    "\n",
    "# print original list \n",
    "print(\"Original List:\", my_list)\n",
    "\n",
    "# Print sorted list \n",
    "print(\"Sorted List:\", sorted(my_list))\n",
    "\n",
    "# Print the first index of the list \n",
    "print(\"First Index:\", my_list[0])\n",
    "\n",
    "# Pop the list \n",
    "print(\"Popped List:\", my_list.pop())\n"
   ]
  },
  {
   "cell_type": "markdown",
   "metadata": {},
   "source": [
    "## Abstraction \n",
    "We should only show the user the details that they need to perform their operations and nothing more \n",
    "\n",
    "Abstraction is a key concept for writing your code and is implemented in `Encapsulation` as one of the goals of `Encapsulation` is to hide the inner workings of a class and giving the user the information that they need.\n",
    "\n",
    "Abstraction goes a little bit further and says that we should create blue prints for our classes which detail the methods and attributes that should be visible to the user, the user will then be able to pass these blueprints to any functions that need to use these operations.\n",
    "\n",
    "#### Key Terms \n",
    "- Abstract Class \n",
    "    - A class that can contain concrete methods and method signatures as well as attributes\n",
    "    - Cannot be instantiated, is can only be passed inherited.\n",
    "    - Can be used as a parameter allow for any child objects to be passed\n",
    "- Inheritance \n",
    "    - A class that only contains method signatures and attributes\n",
    "    - Cannot be instantiated, is can only be passed inherited.\n",
    "    - Can be used as a parameter allow for any child objects to be passed\n",
    "\n",
    "#### Benefits \n",
    "- Makes it really easy to swap out dependencies using dependency injection \n",
    "\n",
    "#### Notes \n",
    "- Python does not directly support abstraction like how languages lie C# and Java would, we need to use the `abc` module and some decorators to do this"
   ]
  },
  {
   "cell_type": "markdown",
   "metadata": {},
   "source": [
    "#### 1. Create Abstract Class\n",
    "\n",
    "In this section, we will create an abstract class that will will act as a blue print for a person. \n",
    "\n",
    "This class will include both method signatures and concrete methods along with attributes to show the different ways that it can be applied."
   ]
  },
  {
   "cell_type": "code",
   "execution_count": 31,
   "metadata": {},
   "outputs": [],
   "source": [
    "from abc import ABC, abstractmethod\n",
    "\n",
    "# Abstract Class\n",
    "class Person(ABC):\n",
    "\n",
    "    @abstractmethod\n",
    "    def __init__(self, name, age):\n",
    "        self.name = name\n",
    "        self.age = age\n",
    "\n",
    "    # Concrete implementation\n",
    "    @abstractmethod\n",
    "    def walk(self):\n",
    "        return f\"{self.name} is walking.\"\n",
    "\n",
    "    # Method signature\n",
    "    @abstractmethod\n",
    "    def run(self):\n",
    "        pass\n",
    "\n",
    "    @abstractmethod\n",
    "    def eat(self):\n",
    "        pass\n",
    "\n",
    "# Child Class\n",
    "class Child(Person):\n",
    "\n",
    "    def __init__(self, name, age):\n",
    "        super().__init__(name, age)\n",
    "\n",
    "    def walk(self):\n",
    "        return f\"{self.name} is walking.\"\n",
    "\n",
    "    def run(self):\n",
    "        return f\"{self.name} is running.\"\n",
    "\n",
    "    def eat(self):\n",
    "        return f\"{self.name} is eating.\"\n",
    "    \n",
    "child_person = Child(\"John\", 12)"
   ]
  },
  {
   "cell_type": "markdown",
   "metadata": {},
   "source": [
    "#### 1.1 Errors When using abstract class wrong \n",
    "\n",
    "As stated above, you can not call an abstract class directly and you have to implement every method shown in the blueprint.\n",
    "\n",
    "Lets take a look at the errors that we might get.\n",
    "\n",
    "1. Direct implementation \n",
    "2. Incorrect Child class"
   ]
  },
  {
   "cell_type": "code",
   "execution_count": 32,
   "metadata": {},
   "outputs": [],
   "source": [
    "from abc import ABC, abstractmethod\n",
    "\n",
    "# Abstract Class\n",
    "class Person(ABC):\n",
    "\n",
    "    @abstractmethod\n",
    "    def __init__(self, name, age):\n",
    "        self.name = name\n",
    "        self.age = age\n",
    "\n",
    "    # Concrete implementation\n",
    "    @abstractmethod\n",
    "    def walk(self):\n",
    "        return f\"{self.name} is walking.\"\n",
    "\n",
    "    # Method signature\n",
    "    @abstractmethod\n",
    "    def run(self):\n",
    "        pass\n",
    "\n",
    "    @abstractmethod\n",
    "    def eat(self):\n",
    "        pass"
   ]
  },
  {
   "cell_type": "code",
   "execution_count": 33,
   "metadata": {},
   "outputs": [
    {
     "ename": "TypeError",
     "evalue": "Can't instantiate abstract class Person with abstract methods __init__, eat, run, walk",
     "output_type": "error",
     "traceback": [
      "\u001b[1;31m---------------------------------------------------------------------------\u001b[0m",
      "\u001b[1;31mTypeError\u001b[0m                                 Traceback (most recent call last)",
      "Cell \u001b[1;32mIn[33], line 2\u001b[0m\n\u001b[0;32m      1\u001b[0m \u001b[38;5;66;03m# Implementing \u001b[39;00m\n\u001b[1;32m----> 2\u001b[0m person \u001b[38;5;241m=\u001b[39m \u001b[43mPerson\u001b[49m\u001b[43m(\u001b[49m\u001b[38;5;124;43m\"\u001b[39;49m\u001b[38;5;124;43mjack\u001b[39;49m\u001b[38;5;124;43m\"\u001b[39;49m\u001b[43m,\u001b[49m\u001b[43m \u001b[49m\u001b[38;5;241;43m30\u001b[39;49m\u001b[43m)\u001b[49m\n",
      "\u001b[1;31mTypeError\u001b[0m: Can't instantiate abstract class Person with abstract methods __init__, eat, run, walk"
     ]
    }
   ],
   "source": [
    "# Implementing \n",
    "person = Person(\"jack\", 30)"
   ]
  },
  {
   "cell_type": "code",
   "execution_count": 34,
   "metadata": {},
   "outputs": [
    {
     "ename": "TypeError",
     "evalue": "Can't instantiate abstract class Child with abstract method walk",
     "output_type": "error",
     "traceback": [
      "\u001b[1;31m---------------------------------------------------------------------------\u001b[0m",
      "\u001b[1;31mTypeError\u001b[0m                                 Traceback (most recent call last)",
      "Cell \u001b[1;32mIn[34], line 14\u001b[0m\n\u001b[0;32m     11\u001b[0m     \u001b[38;5;28;01mdef\u001b[39;00m \u001b[38;5;21meat\u001b[39m(\u001b[38;5;28mself\u001b[39m):\n\u001b[0;32m     12\u001b[0m         \u001b[38;5;28;01mreturn\u001b[39;00m \u001b[38;5;124mf\u001b[39m\u001b[38;5;124m\"\u001b[39m\u001b[38;5;132;01m{\u001b[39;00m\u001b[38;5;28mself\u001b[39m\u001b[38;5;241m.\u001b[39mname\u001b[38;5;132;01m}\u001b[39;00m\u001b[38;5;124m is eating.\u001b[39m\u001b[38;5;124m\"\u001b[39m\n\u001b[1;32m---> 14\u001b[0m child_person \u001b[38;5;241m=\u001b[39m \u001b[43mChild\u001b[49m\u001b[43m(\u001b[49m\u001b[38;5;124;43m\"\u001b[39;49m\u001b[38;5;124;43mJohn\u001b[39;49m\u001b[38;5;124;43m\"\u001b[39;49m\u001b[43m,\u001b[49m\u001b[43m \u001b[49m\u001b[38;5;241;43m12\u001b[39;49m\u001b[43m)\u001b[49m\n",
      "\u001b[1;31mTypeError\u001b[0m: Can't instantiate abstract class Child with abstract method walk"
     ]
    }
   ],
   "source": [
    "# Child Class (Left out the walk method)\n",
    "\n",
    "class Child(Person):\n",
    "\n",
    "    def __init__(self, name, age):\n",
    "        super().__init__(name, age)\n",
    "\n",
    "    def run(self):\n",
    "        return f\"{self.name} is running.\"\n",
    "\n",
    "    def eat(self):\n",
    "        return f\"{self.name} is eating.\"\n",
    "    \n",
    "child_person = Child(\"John\", 12)"
   ]
  },
  {
   "cell_type": "markdown",
   "metadata": {},
   "source": [
    "#### 2. Interfaces \n",
    "\n",
    "Python does not provide a direct way of implementing an interface, we would need to create another abstract class but without any concrete method implementation. "
   ]
  },
  {
   "cell_type": "markdown",
   "metadata": {},
   "source": [
    "#### 3. Power of Abstraction \n",
    "\n",
    "In this section, we will be creating 3 abstract classes and a single function that takes the blueprint as a parameter, you will see that without changing anything in the class, we can get different outputs from just changing the child that is being passed.\n",
    "\n",
    "*This example might be a bit obselete because Python is not strongly typed, but in languages like C# and Java, it is a real gamechanger*\n",
    "\n",
    "1. Create classes \n",
    "2. Create function \n",
    "3. Pass the different classes to the function"
   ]
  },
  {
   "cell_type": "code",
   "execution_count": 35,
   "metadata": {},
   "outputs": [],
   "source": [
    "from abc import ABC, abstractmethod\n",
    "\n",
    "# Abstract class \n",
    "class Vehicle(ABC):\n",
    "    \n",
    "    @abstractmethod\n",
    "    def move(self):\n",
    "        pass\n",
    "\n",
    "    @abstractmethod\n",
    "    def reduce_speed(self):\n",
    "        pass\n",
    "    \n",
    "    @abstractmethod\n",
    "    def increase_speed(self):\n",
    "        pass\n",
    "    \n",
    "    @abstractmethod\n",
    "    def stop(self):\n",
    "        pass\n",
    "\n",
    "# Motorcycle class \n",
    "class Motorcycle(Vehicle):\n",
    "    \n",
    "    def move(self):\n",
    "        print(\"Motorcycle is moving\")\n",
    "    \n",
    "    def reduce_speed(self):\n",
    "        print(\"Motorcyclist squeezes brakes\")\n",
    "    \n",
    "    def increase_speed(self):\n",
    "        print(\"Motorcyclist rotates throttle\")\n",
    "    \n",
    "    def stop(self):\n",
    "        print(\"Motorcyclist retracts kick stand\")\n",
    "\n",
    "# Bicycle class\n",
    "class Bicycle(Vehicle):\n",
    "    \n",
    "    def move(self):\n",
    "        print(\"Cyclist pushes off\")\n",
    "    \n",
    "    def reduce_speed(self):\n",
    "        print(\"Cyclist squeezes brakes\")\n",
    "    \n",
    "    def increase_speed(self):\n",
    "        print(\"Cyclist increases pedals harder\")\n",
    "    \n",
    "    def stop(self):\n",
    "        print(\"Cyclist places bicycle on stand\")\n",
    "\n",
    "# Car class\n",
    "class Car(Vehicle):\n",
    "    \n",
    "    def move(self):\n",
    "        print(\"Car is moving\")\n",
    "    \n",
    "    def reduce_speed(self):\n",
    "        print(\"Driver steps on break pedal\")\n",
    "    \n",
    "    def increase_speed(self):\n",
    "        print(\"Driver steps on gas pedal\")\n",
    "    \n",
    "    def stop(self):\n",
    "        print(\"Driver put on the handbrake\")"
   ]
  },
  {
   "cell_type": "code",
   "execution_count": 36,
   "metadata": {},
   "outputs": [],
   "source": [
    "# Create the function \n",
    "\n",
    "def vehicle_operation(vehicle: Vehicle):\n",
    "    vehicle.move()\n",
    "    vehicle.increase_speed()\n",
    "    vehicle.reduce_speed()\n",
    "    vehicle.stop()"
   ]
  },
  {
   "cell_type": "code",
   "execution_count": 37,
   "metadata": {},
   "outputs": [
    {
     "name": "stdout",
     "output_type": "stream",
     "text": [
      "Motorcycle\n",
      "Motorcycle is moving\n",
      "Motorcyclist rotates throttle\n",
      "Motorcyclist squeezes brakes\n",
      "Motorcyclist retracts kick stand\n",
      "\n",
      "car\n",
      "Car is moving\n",
      "Driver steps on gas pedal\n",
      "Driver steps on break pedal\n",
      "Driver put on the handbrake\n",
      "\n",
      "bicycle\n",
      "Cyclist pushes off\n",
      "Cyclist increases pedals harder\n",
      "Cyclist squeezes brakes\n",
      "Cyclist places bicycle on stand\n"
     ]
    }
   ],
   "source": [
    "# initialize classes\n",
    "motorcycle = Motorcycle()\n",
    "car = Car()\n",
    "bicycle = Bicycle()\n",
    "\n",
    "# pass motorcycle \n",
    "print(\"Motorcycle\")\n",
    "vehicle_operation(motorcycle)\n",
    "\n",
    "# Pass car \n",
    "print(\"\\ncar\")\n",
    "vehicle_operation(car)\n",
    "\n",
    "# Pass bicycle\n",
    "print(\"\\nbicycle\")\n",
    "vehicle_operation(bicycle)"
   ]
  },
  {
   "cell_type": "markdown",
   "metadata": {},
   "source": [
    "## Polymorphism \n",
    "A method call should be able to perform the same operation in different ways.\n",
    "\n",
    "This principle basicially allows us to reuse the method name so that a similar operation can be performed but with different information being passed.\n",
    "\n",
    "There are two main ways of making a method polymorphic \n",
    "- Method overriding \n",
    "- Method overloading\n",
    "\n",
    "#### Overriding \n",
    "- We have seen this in action in the last few examples, when we inherit from a parent and change the output that the base class produces, we are overriding that method.\n",
    "\n",
    "#### Overloading \n",
    "- Overloading happens when we use the same method name to perform similar operations but with a different set of paramters \n",
    "- When calling methods with the same names, the compiler will reference the method that has a signature that matches the parameters that are passed\n",
    "- There is no direct way to perform method overloading without using external modules in Python, but languages like C# and Java support it out of the box.\n",
    "\n",
    "We will take a look at how method overloading would look in another language, but note that this code will crash."
   ]
  },
  {
   "cell_type": "code",
   "execution_count": 45,
   "metadata": {},
   "outputs": [
    {
     "ename": "TypeError",
     "evalue": "UserAuth.is_valid_login() takes 2 positional arguments but 3 were given",
     "output_type": "error",
     "traceback": [
      "\u001b[1;31m---------------------------------------------------------------------------\u001b[0m",
      "\u001b[1;31mTypeError\u001b[0m                                 Traceback (most recent call last)",
      "Cell \u001b[1;32mIn[45], line 13\u001b[0m\n\u001b[0;32m     10\u001b[0m user_auth \u001b[38;5;241m=\u001b[39m UserAuth()\n\u001b[0;32m     12\u001b[0m \u001b[38;5;66;03m# This would route to the first method as the signature has 2 arguments (exclusing self)\u001b[39;00m\n\u001b[1;32m---> 13\u001b[0m \u001b[43muser_auth\u001b[49m\u001b[38;5;241;43m.\u001b[39;49m\u001b[43mis_valid_login\u001b[49m\u001b[43m(\u001b[49m\u001b[38;5;124;43m\"\u001b[39;49m\u001b[38;5;124;43mjack\u001b[39;49m\u001b[38;5;124;43m\"\u001b[39;49m\u001b[43m,\u001b[49m\u001b[43m \u001b[49m\u001b[38;5;124;43m\"\u001b[39;49m\u001b[38;5;124;43madmin\u001b[39;49m\u001b[38;5;124;43m\"\u001b[39;49m\u001b[43m)\u001b[49m\n\u001b[0;32m     15\u001b[0m \u001b[38;5;66;03m# This would route to the second method as the signature has 1 argument (exclusing self)\u001b[39;00m\n\u001b[0;32m     16\u001b[0m \u001b[38;5;28mprint\u001b[39m(\u001b[38;5;124m\"\u001b[39m\u001b[38;5;124mCorrect auth token:\u001b[39m\u001b[38;5;124m\"\u001b[39m, user_auth\u001b[38;5;241m.\u001b[39mis_valid_login(\u001b[38;5;124m\"\u001b[39m\u001b[38;5;124mjdfh_ajs78b_jkasdusdh\u001b[39m\u001b[38;5;124m\"\u001b[39m))\n",
      "\u001b[1;31mTypeError\u001b[0m: UserAuth.is_valid_login() takes 2 positional arguments but 3 were given"
     ]
    }
   ],
   "source": [
    "class UserAuth:\n",
    "    \n",
    "    def is_valid_login(self, username, password):\n",
    "        return username == \"admin\" and password == \"admin\"\n",
    "\n",
    "    def is_valid_login(self, auth_token):\n",
    "        return auth_token == \"jdfh_ajs78b_jkasdusdh\"\n",
    "    \n",
    "# Call method \n",
    "user_auth = UserAuth()\n",
    "\n",
    "# This would route to the first method as the signature has 2 arguments (exclusing self)\n",
    "user_auth.is_valid_login(\"jack\", \"admin\")\n",
    "\n",
    "# This would route to the second method as the signature has 1 argument (exclusing self)\n",
    "print(\"Correct auth token:\", user_auth.is_valid_login(\"jdfh_ajs78b_jkasdusdh\"))"
   ]
  }
 ],
 "metadata": {
  "kernelspec": {
   "display_name": "Python 3",
   "language": "python",
   "name": "python3"
  },
  "language_info": {
   "codemirror_mode": {
    "name": "ipython",
    "version": 3
   },
   "file_extension": ".py",
   "mimetype": "text/x-python",
   "name": "python",
   "nbconvert_exporter": "python",
   "pygments_lexer": "ipython3",
   "version": "3.11.2"
  }
 },
 "nbformat": 4,
 "nbformat_minor": 2
}
