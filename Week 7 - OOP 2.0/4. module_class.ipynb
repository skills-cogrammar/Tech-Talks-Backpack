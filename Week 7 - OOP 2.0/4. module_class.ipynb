{
 "cells": [
  {
   "cell_type": "markdown",
   "metadata": {},
   "source": [
    "# Module Class \n",
    "\n",
    "### What is it \n",
    "- A class the performs a series of related operations \n",
    "- Most Python Packages that you use are module classes as they perform specific operations \n",
    "- Allow us to carry operations between different parts of our code.\n",
    "\n",
    "### Implementation \n",
    "- Methods are the most important part of module classes \n",
    "- Attributes are used to store data that is commonly used between the different methods \n",
    "- Must be stateless \n",
    "    - Any one method call should not affect the next method call \n",
    "    - Every call should give me the same result (depending on the parameters I pass and initialization of the object)\n",
    "- Should only take in parameters and return results \n",
    "    - No print statements \n",
    "    - No input functions \n",
    "\n",
    "### Uses \n",
    "- Allows us to write code once, and use it in different places \n",
    "    - We can use the same code within a single codebase \n",
    "    - We can take the module and us it in different projects \n",
    "\n",
    "### Benefits \n",
    "- When using abstraction, allows use to change the module we are working with without haveing to change any of the implementation code.\n",
    "- Allows for easier code reuse\n"
   ]
  },
  {
   "cell_type": "markdown",
   "metadata": {},
   "source": [
    "## Creating a module class \n",
    "- Methods are the most important thing\n",
    "- Attributes store commonly referenced information \n",
    "- in most cases, attributes should not be changed during the life time of the object."
   ]
  },
  {
   "cell_type": "markdown",
   "metadata": {},
   "source": [
    "1. Basic Method class \n",
    "\n",
    "*We are creating a class that reads and writes from a file, most basic form would be to just create the methods and let users pass the path they are working with *"
   ]
  },
  {
   "cell_type": "code",
   "execution_count": 2,
   "metadata": {},
   "outputs": [
    {
     "name": "stdout",
     "output_type": "stream",
     "text": [
      "Hello World\n"
     ]
    }
   ],
   "source": [
    "# Basic file handling Module \n",
    "class FileHandler():\n",
    "\n",
    "    def write(self, path: str, data: str):\n",
    "        with open(path, 'w') as f:\n",
    "            f.write(data)\n",
    "    \n",
    "    def read(self, path: str):        \n",
    "        output = None\n",
    "\n",
    "        try:\n",
    "            with open(path, 'r') as f:\n",
    "                output = f.read()\n",
    "        except FileExistsError:\n",
    "            # Log error \n",
    "            ...\n",
    "        \n",
    "        return output\n",
    "\n",
    "# Initialize class\n",
    "file = FileHandler()\n",
    "\n",
    "# Write to file \n",
    "file.write(\"my_file\", \"Hello World\")\n",
    "\n",
    "# Read from file \n",
    "output = file.read(\"my_file\")\n",
    "\n",
    "print(output)"
   ]
  },
  {
   "cell_type": "markdown",
   "metadata": {},
   "source": [
    "2. If for all usecases, the application will be used the same file, we can create an attribute for the file path.\n",
    "\n",
    "*We have made the attribute private so that it does not get changed between method calls*"
   ]
  },
  {
   "cell_type": "code",
   "execution_count": 4,
   "metadata": {},
   "outputs": [
    {
     "name": "stdout",
     "output_type": "stream",
     "text": [
      "Hello there\n"
     ]
    }
   ],
   "source": [
    "# Basic file handling Module \n",
    "class FileHandler():\n",
    "    \n",
    "    def __init__(self, path: str):\n",
    "        self.__path = path        \n",
    "\n",
    "    def write(self, data: str):\n",
    "        with open(self.__path, 'w') as f:\n",
    "            f.write(data)\n",
    "    \n",
    "    def read(self):        \n",
    "        output = None\n",
    "\n",
    "        try:\n",
    "            with open(self.__path, 'r') as f:\n",
    "                output = f.read()\n",
    "        except FileExistsError:\n",
    "            # Log error \n",
    "            ...\n",
    "        \n",
    "        return output\n",
    "\n",
    "# Initialize the file object\n",
    "file = FileHandler('my_file.txt')\n",
    "\n",
    "# Write to the file without having to pass the file name\n",
    "file.write(\"Hello there\")\n",
    "\n",
    "# Read from file \n",
    "output = file.read()\n",
    "print(output)"
   ]
  },
  {
   "cell_type": "markdown",
   "metadata": {},
   "source": [
    "3. Using private methods to perform operations that the user doesn't need to know about\n",
    "\n",
    "*We will be instead of handling the error, we will check if the file exists before reading from the file*"
   ]
  },
  {
   "cell_type": "code",
   "execution_count": null,
   "metadata": {},
   "outputs": [],
   "source": [
    "import os \n",
    "\n",
    "class FileHandler():\n",
    "    \n",
    "    def __init__(self, path: str):\n",
    "        self.__path = path\n",
    "\n",
    "        # Create the file if it does not exist \n",
    "        if (not self.__file_exists()):\n",
    "            self.write(\"\")\n",
    "\n",
    "    def write(self, data: str):\n",
    "        with open(self.__path, 'w') as f:\n",
    "            f.write(data)\n",
    "    \n",
    "    def read(self):        \n",
    "        if (not self.__file_exists()):\n",
    "            return None\n",
    "\n",
    "        with open(self.__path, 'r') as f:\n",
    "            return f.read()        \n",
    "    \n",
    "    def __file_exists(self):\n",
    "        return os.path.exists(self.__path)"
   ]
  }
 ],
 "metadata": {
  "kernelspec": {
   "display_name": "Python 3",
   "language": "python",
   "name": "python3"
  },
  "language_info": {
   "codemirror_mode": {
    "name": "ipython",
    "version": 3
   },
   "file_extension": ".py",
   "mimetype": "text/x-python",
   "name": "python",
   "nbconvert_exporter": "python",
   "pygments_lexer": "ipython3",
   "version": "3.11.2"
  }
 },
 "nbformat": 4,
 "nbformat_minor": 2
}
